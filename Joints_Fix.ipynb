{
 "cells": [
  {
   "cell_type": "code",
   "execution_count": 1,
   "metadata": {},
   "outputs": [
    {
     "name": "stderr",
     "output_type": "stream",
     "text": [
      "C:\\Users\\zaida\\AppData\\Local\\Temp\\ipykernel_1576\\3118107498.py:23: DtypeWarning: Columns (1,3,5,6,7,8,9,10,11,12,13,16,19,20) have mixed types. Specify dtype option on import or set low_memory=False.\n",
      "  df = pd.read_csv('train.csv')\n"
     ]
    },
    {
     "data": {
      "text/html": [
       "<div>\n",
       "<style scoped>\n",
       "    .dataframe tbody tr th:only-of-type {\n",
       "        vertical-align: middle;\n",
       "    }\n",
       "\n",
       "    .dataframe tbody tr th {\n",
       "        vertical-align: top;\n",
       "    }\n",
       "\n",
       "    .dataframe thead th {\n",
       "        text-align: right;\n",
       "    }\n",
       "</style>\n",
       "<table border=\"1\" class=\"dataframe\">\n",
       "  <thead>\n",
       "    <tr style=\"text-align: right;\">\n",
       "      <th></th>\n",
       "      <th>Unnamed: 0</th>\n",
       "      <th>floors_before_eq (total)</th>\n",
       "      <th>old_building</th>\n",
       "      <th>plinth_area (ft^2)</th>\n",
       "      <th>height_before_eq (ft)</th>\n",
       "      <th>land_surface_condition</th>\n",
       "      <th>type_of_foundation</th>\n",
       "      <th>type_of_roof</th>\n",
       "      <th>type_of_ground_floor</th>\n",
       "      <th>type_of_other_floor</th>\n",
       "      <th>...</th>\n",
       "      <th>type_of_reinforcement_concrete</th>\n",
       "      <th>residential_type</th>\n",
       "      <th>no_family_residing</th>\n",
       "      <th>public_place_type</th>\n",
       "      <th>industrial_use_type</th>\n",
       "      <th>govermental_use_type</th>\n",
       "      <th>flexible_superstructure</th>\n",
       "      <th>wall_binding</th>\n",
       "      <th>wall_material</th>\n",
       "      <th>damage_grade</th>\n",
       "    </tr>\n",
       "  </thead>\n",
       "  <tbody>\n",
       "    <tr>\n",
       "      <th>0</th>\n",
       "      <td>0</td>\n",
       "      <td>floor two</td>\n",
       "      <td>1.0</td>\n",
       "      <td>256 ft^2</td>\n",
       "      <td>22.0</td>\n",
       "      <td>Flat</td>\n",
       "      <td>Bamboo or Timber</td>\n",
       "      <td>Bamboo/Timber Light roof</td>\n",
       "      <td>Clay</td>\n",
       "      <td>TImber/Bamboo-Mud</td>\n",
       "      <td>...</td>\n",
       "      <td>0.0</td>\n",
       "      <td>Non-residential</td>\n",
       "      <td>1.0</td>\n",
       "      <td>Non-public</td>\n",
       "      <td>Non-industrial</td>\n",
       "      <td>Non-govermental</td>\n",
       "      <td>unavailable</td>\n",
       "      <td>0.0</td>\n",
       "      <td>0.0</td>\n",
       "      <td>1.0</td>\n",
       "    </tr>\n",
       "    <tr>\n",
       "      <th>1</th>\n",
       "      <td>1</td>\n",
       "      <td>Floor 3</td>\n",
       "      <td>3.0</td>\n",
       "      <td>985 ft^2</td>\n",
       "      <td>18.0</td>\n",
       "      <td>Flat</td>\n",
       "      <td>Clay Sand Mixed mortar-Stone/Brick</td>\n",
       "      <td>Wood Light Roof or Bamboo Heavy Roof</td>\n",
       "      <td>Clay</td>\n",
       "      <td>TImber/Bamboo-Mud</td>\n",
       "      <td>...</td>\n",
       "      <td>0.0</td>\n",
       "      <td>Non-residential</td>\n",
       "      <td>1.0</td>\n",
       "      <td>Non-public</td>\n",
       "      <td>Non-industrial</td>\n",
       "      <td>Non-govermental</td>\n",
       "      <td>unavailable</td>\n",
       "      <td>5.0</td>\n",
       "      <td>2.0</td>\n",
       "      <td>5.0</td>\n",
       "    </tr>\n",
       "    <tr>\n",
       "      <th>2</th>\n",
       "      <td>2</td>\n",
       "      <td>Two Floor</td>\n",
       "      <td>7.0</td>\n",
       "      <td>NaN</td>\n",
       "      <td>14.0</td>\n",
       "      <td>Flat</td>\n",
       "      <td>Mud mortar-Stone/Brick</td>\n",
       "      <td>NaN</td>\n",
       "      <td>Clay</td>\n",
       "      <td>Wood-Mud or Bamboo Mud</td>\n",
       "      <td>...</td>\n",
       "      <td>0.0</td>\n",
       "      <td>Non-residential</td>\n",
       "      <td>1.0</td>\n",
       "      <td>Non-public</td>\n",
       "      <td>Non-industrial</td>\n",
       "      <td>Non-govermental</td>\n",
       "      <td>unavailable</td>\n",
       "      <td>5.0</td>\n",
       "      <td>2.0</td>\n",
       "      <td>5.0</td>\n",
       "    </tr>\n",
       "    <tr>\n",
       "      <th>3</th>\n",
       "      <td>3</td>\n",
       "      <td>two</td>\n",
       "      <td>18.0</td>\n",
       "      <td>185 ft^2</td>\n",
       "      <td>15.0</td>\n",
       "      <td>Flat</td>\n",
       "      <td>Clay Sand Mixed mortar-Stone/Brick</td>\n",
       "      <td>Wood Light Roof or Bamboo Light Roof</td>\n",
       "      <td>Clay</td>\n",
       "      <td>TImber/Bamboo-Mud</td>\n",
       "      <td>...</td>\n",
       "      <td>0.0</td>\n",
       "      <td>Non-residential</td>\n",
       "      <td>1.0</td>\n",
       "      <td>Non-public</td>\n",
       "      <td>Non-industrial</td>\n",
       "      <td>Non-govermental</td>\n",
       "      <td>unavailable</td>\n",
       "      <td>5.0</td>\n",
       "      <td>2.0</td>\n",
       "      <td>4.0</td>\n",
       "    </tr>\n",
       "    <tr>\n",
       "      <th>4</th>\n",
       "      <td>4</td>\n",
       "      <td>just 2 floor</td>\n",
       "      <td>22.0</td>\n",
       "      <td>290 ft^2</td>\n",
       "      <td>17.0</td>\n",
       "      <td>Flat</td>\n",
       "      <td>Clay Sand Mixed mortar-Stone/Brick</td>\n",
       "      <td>Bamboo or Timber Light roof</td>\n",
       "      <td>Clay</td>\n",
       "      <td>Timber Mud or Bamboo-Mud</td>\n",
       "      <td>...</td>\n",
       "      <td>0.0</td>\n",
       "      <td>Non-residential</td>\n",
       "      <td>1.0</td>\n",
       "      <td>Non-public</td>\n",
       "      <td>Non-industrial</td>\n",
       "      <td>Non-govermental</td>\n",
       "      <td>unavailable</td>\n",
       "      <td>5.0</td>\n",
       "      <td>2.0</td>\n",
       "      <td>1.0</td>\n",
       "    </tr>\n",
       "  </tbody>\n",
       "</table>\n",
       "<p>5 rows × 25 columns</p>\n",
       "</div>"
      ],
      "text/plain": [
       "   Unnamed: 0 floors_before_eq (total)  old_building plinth_area (ft^2)   \n",
       "0           0                floor two           1.0           256 ft^2  \\\n",
       "1           1                  Floor 3           3.0           985 ft^2   \n",
       "2           2                Two Floor           7.0                NaN   \n",
       "3           3                      two          18.0           185 ft^2   \n",
       "4           4             just 2 floor          22.0           290 ft^2   \n",
       "\n",
       "   height_before_eq (ft) land_surface_condition   \n",
       "0                   22.0                   Flat  \\\n",
       "1                   18.0                   Flat   \n",
       "2                   14.0                   Flat   \n",
       "3                   15.0                   Flat   \n",
       "4                   17.0                   Flat   \n",
       "\n",
       "                   type_of_foundation                          type_of_roof   \n",
       "0                    Bamboo or Timber              Bamboo/Timber Light roof  \\\n",
       "1  Clay Sand Mixed mortar-Stone/Brick  Wood Light Roof or Bamboo Heavy Roof   \n",
       "2              Mud mortar-Stone/Brick                                   NaN   \n",
       "3  Clay Sand Mixed mortar-Stone/Brick  Wood Light Roof or Bamboo Light Roof   \n",
       "4  Clay Sand Mixed mortar-Stone/Brick           Bamboo or Timber Light roof   \n",
       "\n",
       "  type_of_ground_floor       type_of_other_floor  ...   \n",
       "0                 Clay         TImber/Bamboo-Mud  ...  \\\n",
       "1                 Clay         TImber/Bamboo-Mud  ...   \n",
       "2                 Clay    Wood-Mud or Bamboo Mud  ...   \n",
       "3                 Clay         TImber/Bamboo-Mud  ...   \n",
       "4                 Clay  Timber Mud or Bamboo-Mud  ...   \n",
       "\n",
       "  type_of_reinforcement_concrete residential_type no_family_residing   \n",
       "0                            0.0  Non-residential                1.0  \\\n",
       "1                            0.0  Non-residential                1.0   \n",
       "2                            0.0  Non-residential                1.0   \n",
       "3                            0.0  Non-residential                1.0   \n",
       "4                            0.0  Non-residential                1.0   \n",
       "\n",
       "  public_place_type  industrial_use_type  govermental_use_type   \n",
       "0        Non-public       Non-industrial       Non-govermental  \\\n",
       "1        Non-public       Non-industrial       Non-govermental   \n",
       "2        Non-public       Non-industrial       Non-govermental   \n",
       "3        Non-public       Non-industrial       Non-govermental   \n",
       "4        Non-public       Non-industrial       Non-govermental   \n",
       "\n",
       "  flexible_superstructure  wall_binding wall_material damage_grade  \n",
       "0             unavailable           0.0           0.0          1.0  \n",
       "1             unavailable           5.0           2.0          5.0  \n",
       "2             unavailable           5.0           2.0          5.0  \n",
       "3             unavailable           5.0           2.0          4.0  \n",
       "4             unavailable           5.0           2.0          1.0  \n",
       "\n",
       "[5 rows x 25 columns]"
      ]
     },
     "execution_count": 1,
     "metadata": {},
     "output_type": "execute_result"
    }
   ],
   "source": [
    "import pandas as pd\n",
    "import numpy as np\n",
    "import matplotlib.pyplot as plt\n",
    "%matplotlib inline\n",
    "import seaborn as sns\n",
    "import re\n",
    "from ydata_profiling import ProfileReport\n",
    "\n",
    "from sklearn.pipeline import Pipeline\n",
    "from sklearn import preprocessing\n",
    "from sklearn.preprocessing import LabelEncoder, StandardScaler\n",
    "from sklearn.model_selection import train_test_split\n",
    "from sklearn.metrics import accuracy_score\n",
    "\n",
    "# Models\n",
    "from sklearn.tree import DecisionTreeClassifier\n",
    "from sklearn.svm import SVC\n",
    "from sklearn.linear_model import LogisticRegression\n",
    "from sklearn.ensemble import RandomForestClassifier, GradientBoostingClassifier, AdaBoostClassifier, BaggingClassifier, VotingClassifier\n",
    "from sklearn.neighbors import KNeighborsClassifier\n",
    "from xgboost import XGBClassifier\n",
    "\n",
    "df = pd.read_csv('train.csv')\n",
    "df.head()"
   ]
  },
  {
   "cell_type": "markdown",
   "metadata": {},
   "source": [
    "---\n",
    "# Data Cleaning\n",
    "---"
   ]
  },
  {
   "cell_type": "code",
   "execution_count": 4,
   "metadata": {},
   "outputs": [],
   "source": [
    "profile = ProfileReport(df, title='Joints Data Competition UGM')"
   ]
  },
  {
   "cell_type": "code",
   "execution_count": null,
   "metadata": {},
   "outputs": [],
   "source": [
    "profile.to_notebook_iframe()"
   ]
  },
  {
   "cell_type": "code",
   "execution_count": 2,
   "metadata": {},
   "outputs": [],
   "source": [
    "df = df.rename(columns={'Unnamed: 0':'id'})"
   ]
  },
  {
   "cell_type": "code",
   "execution_count": 62,
   "metadata": {},
   "outputs": [
    {
     "name": "stdout",
     "output_type": "stream",
     "text": [
      "<class 'pandas.core.frame.DataFrame'>\n",
      "RangeIndex: 722815 entries, 0 to 722814\n",
      "Data columns (total 25 columns):\n",
      " #   Column                          Non-Null Count   Dtype  \n",
      "---  ------                          --------------   -----  \n",
      " 0   id                              722815 non-null  int64  \n",
      " 1   floors_before_eq (total)        390009 non-null  object \n",
      " 2   old_building                    483611 non-null  float64\n",
      " 3   plinth_area (ft^2)              301607 non-null  object \n",
      " 4   height_before_eq (ft)           390009 non-null  float64\n",
      " 5   land_surface_condition          421209 non-null  object \n",
      " 6   type_of_foundation              483611 non-null  object \n",
      " 7   type_of_roof                    301607 non-null  object \n",
      " 8   type_of_ground_floor            390009 non-null  object \n",
      " 9   type_of_other_floor             421209 non-null  object \n",
      " 10  position                        410809 non-null  object \n",
      " 11  building_plan_configuration     421209 non-null  object \n",
      " 12  technical_solution_proposed     46801 non-null   object \n",
      " 13  legal_ownership_status          598013 non-null  object \n",
      " 14  has_secondary_use               525211 non-null  float64\n",
      " 15  type_of_reinforcement_concrete  431609 non-null  float64\n",
      " 16  residential_type                452411 non-null  object \n",
      " 17  no_family_residing              577213 non-null  object \n",
      " 18  public_place_type               722815 non-null  object \n",
      " 19  industrial_use_type             608413 non-null  object \n",
      " 20  govermental_use_type            473211 non-null  object \n",
      " 21  flexible_superstructure         660415 non-null  object \n",
      " 22  wall_binding                    660415 non-null  float64\n",
      " 23  wall_material                   494011 non-null  float64\n",
      " 24  damage_grade                    722815 non-null  float64\n",
      "dtypes: float64(7), int64(1), object(17)\n",
      "memory usage: 137.9+ MB\n"
     ]
    }
   ],
   "source": [
    "df.info()"
   ]
  },
  {
   "cell_type": "code",
   "execution_count": null,
   "metadata": {},
   "outputs": [],
   "source": [
    "for i in df.columns[1:]:\n",
    "    print(f\"\\t\\t-------{i}-------\")\n",
    "    display(df[i].unique())"
   ]
  },
  {
   "cell_type": "markdown",
   "metadata": {},
   "source": [
    "---\n",
    "# Data Preprocessing\n",
    "---"
   ]
  },
  {
   "cell_type": "code",
   "execution_count": 3,
   "metadata": {},
   "outputs": [],
   "source": [
    "def prep(df):\n",
    "    df['plinth_area (ft^2)'] = df['plinth_area (ft^2)'].str.replace(\"\\s*ft\\s*\\^2\", \"\", regex=True)\n",
    "    df['plinth_area (ft^2)'] = df['plinth_area (ft^2)'].str.replace('\\s*More\\s*\\ than ' , '', regex=True)\n",
    "    # benerin lantai\n",
    "    lantai = {'floor two':2, 'Two Floor':2, 'two':2, ' just 2 floor':2, 'There is 2 Floor/Story':2, 'Floor two':2, 'Floor 2':2, 'two story':2, 'floor second':2, '2':2, \n",
    "           '1':1, '3':3, '2 floor':2, '1st Story':1, 'floor one':1, 'Has 1 floor':1, 'one story':1, 'Floor 1':1, 'floor 1st':1, 'one':1, 'Just 1 floor':1, 'Floor 3':3, \n",
    "           'Three floor':3, 'floor third':3, '3.00':3, ' has 3 Floor':3, 'three Story':3, 'Floor-three':3, 'Three':3, 'four Floor':4, ' has Four fl':4, 'Fl four':4, \n",
    "           '4':4, 'Floor 4':4, 'floor four':4, 'Four Story':4, 'Four':4, 'fifth':5, 'Fl Five':5, '5':5, 'Floor Fifth':5, ' Has Five fl':5, 'Has Five fl':5, '6':6, '7':7, \n",
    "           '8':8, '9':9,'five Floor':5}\n",
    "    df['floors_before_eq (total)'] = df['floors_before_eq (total)'].replace(lantai, regex=True)\n",
    "    # benerin pondasi\n",
    "    fondasi = {'Bamboo or Timber': 'b/t', 'Clay Sand Mixed mortar-Stone/Brick': 'csmms/b', 'Mud mortar-Stone/Brick': 'mms/b', 'Clay mortar-Stone/Brick': 'cms/b',\n",
    "           'Reinforced Concrete': 'rc', 'Cement-Stone or Cement-Brick': 'cs/cb', 'Bamboo/TImber': 'b/t', 'Bamboo/Timber': 'b/t', 'RC': 'rc',\n",
    "           'Others': 'o', 'Other': 'o', 'Cement-Stone/Brick': 'cs/b'}\n",
    "    df['type_of_foundation'] = df['type_of_foundation'].replace(fondasi, regex=True)\n",
    "    # benerin genteng\n",
    "    roof = {'Bamboo/Timber Light roof': 'b/tlr', 'Wood Light Roof or Bamboo Heavy Roof': 'wlr/bhr', 'Wood Light Roof or Bamboo Light Roof': 'wlr/blr',\n",
    "           'Bamboo or Timber Light roof': 'b/tlr', 'Bamboo/TImber-Light Roof': 'b/tlr', 'Reinforced Brick Slab/rcc/rbc': 'rbs/rcc/rbc',\n",
    "           'Bamboo/Timber Heavy roof': 'b/thr', 'reinforced cement concrete/rb/rbc': 'rcc/rb/rbc', 'Bamboo or Timber Heavy roof': 'b/thr',\n",
    "           'Bamboo/TImber-Heavy Roof': 'b/thr', 'Reinforced brick concrete/rcc/rbc': 'rbc/rcc/rbc'}\n",
    "    df['type_of_roof'] = df['type_of_roof'].replace(roof, regex=True)\n",
    "    # benerin ground floor\n",
    "    ground_floor = {'Clay': 'c', 'Mud': 'm', 'Brick or Stone': 'b/s', 'Reinforced Concrete': 'rc', 'soil, water, loam Mixed': 's/w/lm', \n",
    "                    'Lumber': 'l', 'Other': 'o', 'TImber': 't', 'Timber': 't', 'Wood': 'w'}\n",
    "    df['type_of_ground_floor'] = df['type_of_ground_floor'].replace(ground_floor, regex=True)\n",
    "    # benerin other floor\n",
    "    df['type_of_other_floor'] = df['type_of_other_floor'].replace({\n",
    "    'Bamboo/Timber Light roof|Bamboo or Timber Light roof|Bamboo/TImber-Light Roof': 'b/tlr',\n",
    "    'Bamboo/Timber Heavy roof|Bamboo or Timber Heavy roof|Bamboo/TImber-Heavy Roof': 'b/thr',\n",
    "    'reinforced cement concrete/rb/rbc': 'rcc/rb/rbc',\n",
    "    'Reinforced brick concrete/rcc/rbc': 'rbc/rcc/rbc',\n",
    "    'Reinforced Brick Slab/rcc/rbc': 'rbs/rcc/rbc'\n",
    "    }, regex=True)\n",
    "    # benerin legal ownership\n",
    "    df['legal_ownership_status'] = df['legal_ownership_status'].replace({'Private.*':'p', 'Public.*':'pub', 'Institutional.*':'i', 'Other':'o'}, regex=True)\n",
    "    # benerin residential type\n",
    "    df['residential_type'] = df['residential_type'].replace({'Non-residential':'nr', 'Hotel/Motel':'hm', 'Rental Residential':'rr', 'Housing':'h', 'Other Residential Type':'ort', 'Other':'o'}, regex=True)\n",
    "    # benerin number family residing\n",
    "    df['no_family_residing'] = df['no_family_residing'].replace({'None':'0.0'})\n",
    "    # benerin \n",
    "    df['public_place_type'] = df['public_place_type'].replace({'Non-public':'np'}, regex=True)\n",
    "    df['industrial_use_type'] = df['industrial_use_type'].str.replace('Non-industrial', 'ni').str.replace('Service/Tourism', 'st').str.replace('Forest-based', 'fb')\n",
    "    df['govermental_use_type'] = df['govermental_use_type'].replace({'Non-govermental':'ng'}, regex=True)\n",
    "#     df.drop(['id', 'no_family_residing', 'industrial_use_type'], axis=1, inplace=True)\n",
    "    for col in df.columns:\n",
    "       mode = df[col].mode()[0] #mencari nilai modus pada masing2 kolom \n",
    "       df[col].fillna(value=mode, inplace=True) #mengganti nilai null yang tipe datanya object dengan nilai modus pada masing2 kolom\n"
   ]
  },
  {
   "cell_type": "code",
   "execution_count": 4,
   "metadata": {},
   "outputs": [],
   "source": [
    "df_copy = df.copy()"
   ]
  },
  {
   "cell_type": "code",
   "execution_count": 5,
   "metadata": {},
   "outputs": [
    {
     "data": {
      "text/html": [
       "<div>\n",
       "<style scoped>\n",
       "    .dataframe tbody tr th:only-of-type {\n",
       "        vertical-align: middle;\n",
       "    }\n",
       "\n",
       "    .dataframe tbody tr th {\n",
       "        vertical-align: top;\n",
       "    }\n",
       "\n",
       "    .dataframe thead th {\n",
       "        text-align: right;\n",
       "    }\n",
       "</style>\n",
       "<table border=\"1\" class=\"dataframe\">\n",
       "  <thead>\n",
       "    <tr style=\"text-align: right;\">\n",
       "      <th></th>\n",
       "      <th>id</th>\n",
       "      <th>floors_before_eq (total)</th>\n",
       "      <th>old_building</th>\n",
       "      <th>plinth_area (ft^2)</th>\n",
       "      <th>height_before_eq (ft)</th>\n",
       "      <th>land_surface_condition</th>\n",
       "      <th>type_of_foundation</th>\n",
       "      <th>type_of_roof</th>\n",
       "      <th>type_of_ground_floor</th>\n",
       "      <th>type_of_other_floor</th>\n",
       "      <th>...</th>\n",
       "      <th>type_of_reinforcement_concrete</th>\n",
       "      <th>residential_type</th>\n",
       "      <th>no_family_residing</th>\n",
       "      <th>public_place_type</th>\n",
       "      <th>industrial_use_type</th>\n",
       "      <th>govermental_use_type</th>\n",
       "      <th>flexible_superstructure</th>\n",
       "      <th>wall_binding</th>\n",
       "      <th>wall_material</th>\n",
       "      <th>damage_grade</th>\n",
       "    </tr>\n",
       "  </thead>\n",
       "  <tbody>\n",
       "    <tr>\n",
       "      <th>0</th>\n",
       "      <td>0</td>\n",
       "      <td>2.0</td>\n",
       "      <td>1.0</td>\n",
       "      <td>256</td>\n",
       "      <td>22.0</td>\n",
       "      <td>Flat</td>\n",
       "      <td>b/t</td>\n",
       "      <td>b/tlr</td>\n",
       "      <td>c</td>\n",
       "      <td>TImber/Bamboo-Mud</td>\n",
       "      <td>...</td>\n",
       "      <td>0.0</td>\n",
       "      <td>nr</td>\n",
       "      <td>1.0</td>\n",
       "      <td>np</td>\n",
       "      <td>ni</td>\n",
       "      <td>ng</td>\n",
       "      <td>unavailable</td>\n",
       "      <td>0.0</td>\n",
       "      <td>0.0</td>\n",
       "      <td>1.0</td>\n",
       "    </tr>\n",
       "    <tr>\n",
       "      <th>1</th>\n",
       "      <td>1</td>\n",
       "      <td>3.0</td>\n",
       "      <td>3.0</td>\n",
       "      <td>985</td>\n",
       "      <td>18.0</td>\n",
       "      <td>Flat</td>\n",
       "      <td>csmms/b</td>\n",
       "      <td>wlr/bhr</td>\n",
       "      <td>c</td>\n",
       "      <td>TImber/Bamboo-Mud</td>\n",
       "      <td>...</td>\n",
       "      <td>0.0</td>\n",
       "      <td>nr</td>\n",
       "      <td>1.0</td>\n",
       "      <td>np</td>\n",
       "      <td>ni</td>\n",
       "      <td>ng</td>\n",
       "      <td>unavailable</td>\n",
       "      <td>5.0</td>\n",
       "      <td>2.0</td>\n",
       "      <td>5.0</td>\n",
       "    </tr>\n",
       "    <tr>\n",
       "      <th>2</th>\n",
       "      <td>2</td>\n",
       "      <td>2.0</td>\n",
       "      <td>7.0</td>\n",
       "      <td>300</td>\n",
       "      <td>14.0</td>\n",
       "      <td>Flat</td>\n",
       "      <td>mms/b</td>\n",
       "      <td>b/tlr</td>\n",
       "      <td>c</td>\n",
       "      <td>Wood-Mud or Bamboo Mud</td>\n",
       "      <td>...</td>\n",
       "      <td>0.0</td>\n",
       "      <td>nr</td>\n",
       "      <td>1.0</td>\n",
       "      <td>np</td>\n",
       "      <td>ni</td>\n",
       "      <td>ng</td>\n",
       "      <td>unavailable</td>\n",
       "      <td>5.0</td>\n",
       "      <td>2.0</td>\n",
       "      <td>5.0</td>\n",
       "    </tr>\n",
       "    <tr>\n",
       "      <th>3</th>\n",
       "      <td>3</td>\n",
       "      <td>2.0</td>\n",
       "      <td>18.0</td>\n",
       "      <td>185</td>\n",
       "      <td>15.0</td>\n",
       "      <td>Flat</td>\n",
       "      <td>csmms/b</td>\n",
       "      <td>wlr/blr</td>\n",
       "      <td>c</td>\n",
       "      <td>TImber/Bamboo-Mud</td>\n",
       "      <td>...</td>\n",
       "      <td>0.0</td>\n",
       "      <td>nr</td>\n",
       "      <td>1.0</td>\n",
       "      <td>np</td>\n",
       "      <td>ni</td>\n",
       "      <td>ng</td>\n",
       "      <td>unavailable</td>\n",
       "      <td>5.0</td>\n",
       "      <td>2.0</td>\n",
       "      <td>4.0</td>\n",
       "    </tr>\n",
       "    <tr>\n",
       "      <th>4</th>\n",
       "      <td>4</td>\n",
       "      <td>2.0</td>\n",
       "      <td>22.0</td>\n",
       "      <td>290</td>\n",
       "      <td>17.0</td>\n",
       "      <td>Flat</td>\n",
       "      <td>csmms/b</td>\n",
       "      <td>b/tlr</td>\n",
       "      <td>c</td>\n",
       "      <td>Timber Mud or Bamboo-Mud</td>\n",
       "      <td>...</td>\n",
       "      <td>0.0</td>\n",
       "      <td>nr</td>\n",
       "      <td>1.0</td>\n",
       "      <td>np</td>\n",
       "      <td>ni</td>\n",
       "      <td>ng</td>\n",
       "      <td>unavailable</td>\n",
       "      <td>5.0</td>\n",
       "      <td>2.0</td>\n",
       "      <td>1.0</td>\n",
       "    </tr>\n",
       "  </tbody>\n",
       "</table>\n",
       "<p>5 rows × 25 columns</p>\n",
       "</div>"
      ],
      "text/plain": [
       "   id  floors_before_eq (total)  old_building plinth_area (ft^2)   \n",
       "0   0                       2.0           1.0                256  \\\n",
       "1   1                       3.0           3.0                985   \n",
       "2   2                       2.0           7.0                300   \n",
       "3   3                       2.0          18.0                185   \n",
       "4   4                       2.0          22.0                290   \n",
       "\n",
       "   height_before_eq (ft) land_surface_condition type_of_foundation   \n",
       "0                   22.0                   Flat                b/t  \\\n",
       "1                   18.0                   Flat            csmms/b   \n",
       "2                   14.0                   Flat              mms/b   \n",
       "3                   15.0                   Flat            csmms/b   \n",
       "4                   17.0                   Flat            csmms/b   \n",
       "\n",
       "  type_of_roof type_of_ground_floor       type_of_other_floor  ...   \n",
       "0        b/tlr                    c         TImber/Bamboo-Mud  ...  \\\n",
       "1      wlr/bhr                    c         TImber/Bamboo-Mud  ...   \n",
       "2        b/tlr                    c    Wood-Mud or Bamboo Mud  ...   \n",
       "3      wlr/blr                    c         TImber/Bamboo-Mud  ...   \n",
       "4        b/tlr                    c  Timber Mud or Bamboo-Mud  ...   \n",
       "\n",
       "  type_of_reinforcement_concrete residential_type no_family_residing   \n",
       "0                            0.0               nr                1.0  \\\n",
       "1                            0.0               nr                1.0   \n",
       "2                            0.0               nr                1.0   \n",
       "3                            0.0               nr                1.0   \n",
       "4                            0.0               nr                1.0   \n",
       "\n",
       "  public_place_type  industrial_use_type  govermental_use_type   \n",
       "0                np                   ni                    ng  \\\n",
       "1                np                   ni                    ng   \n",
       "2                np                   ni                    ng   \n",
       "3                np                   ni                    ng   \n",
       "4                np                   ni                    ng   \n",
       "\n",
       "  flexible_superstructure  wall_binding wall_material damage_grade  \n",
       "0             unavailable           0.0           0.0          1.0  \n",
       "1             unavailable           5.0           2.0          5.0  \n",
       "2             unavailable           5.0           2.0          5.0  \n",
       "3             unavailable           5.0           2.0          4.0  \n",
       "4             unavailable           5.0           2.0          1.0  \n",
       "\n",
       "[5 rows x 25 columns]"
      ]
     },
     "execution_count": 5,
     "metadata": {},
     "output_type": "execute_result"
    }
   ],
   "source": [
    "prep(df_copy)\n",
    "df_copy.head()"
   ]
  },
  {
   "cell_type": "code",
   "execution_count": 6,
   "metadata": {},
   "outputs": [
    {
     "data": {
      "text/html": [
       "<div>\n",
       "<style scoped>\n",
       "    .dataframe tbody tr th:only-of-type {\n",
       "        vertical-align: middle;\n",
       "    }\n",
       "\n",
       "    .dataframe tbody tr th {\n",
       "        vertical-align: top;\n",
       "    }\n",
       "\n",
       "    .dataframe thead th {\n",
       "        text-align: right;\n",
       "    }\n",
       "</style>\n",
       "<table border=\"1\" class=\"dataframe\">\n",
       "  <thead>\n",
       "    <tr style=\"text-align: right;\">\n",
       "      <th></th>\n",
       "      <th>id</th>\n",
       "      <th>floors_before_eq (total)</th>\n",
       "      <th>old_building</th>\n",
       "      <th>plinth_area (ft^2)</th>\n",
       "      <th>height_before_eq (ft)</th>\n",
       "      <th>land_surface_condition</th>\n",
       "      <th>type_of_foundation</th>\n",
       "      <th>type_of_roof</th>\n",
       "      <th>type_of_ground_floor</th>\n",
       "      <th>type_of_other_floor</th>\n",
       "      <th>...</th>\n",
       "      <th>type_of_reinforcement_concrete</th>\n",
       "      <th>residential_type</th>\n",
       "      <th>no_family_residing</th>\n",
       "      <th>public_place_type</th>\n",
       "      <th>industrial_use_type</th>\n",
       "      <th>govermental_use_type</th>\n",
       "      <th>flexible_superstructure</th>\n",
       "      <th>wall_binding</th>\n",
       "      <th>wall_material</th>\n",
       "      <th>damage_grade</th>\n",
       "    </tr>\n",
       "  </thead>\n",
       "  <tbody>\n",
       "    <tr>\n",
       "      <th>0</th>\n",
       "      <td>0</td>\n",
       "      <td>2.0</td>\n",
       "      <td>1.0</td>\n",
       "      <td>256</td>\n",
       "      <td>22.0</td>\n",
       "      <td>Flat</td>\n",
       "      <td>b/t</td>\n",
       "      <td>b/tlr</td>\n",
       "      <td>c</td>\n",
       "      <td>TImber/Bamboo-Mud</td>\n",
       "      <td>...</td>\n",
       "      <td>0.0</td>\n",
       "      <td>nr</td>\n",
       "      <td>1.0</td>\n",
       "      <td>np</td>\n",
       "      <td>ni</td>\n",
       "      <td>ng</td>\n",
       "      <td>unavailable</td>\n",
       "      <td>0.0</td>\n",
       "      <td>0.0</td>\n",
       "      <td>1.0</td>\n",
       "    </tr>\n",
       "    <tr>\n",
       "      <th>1</th>\n",
       "      <td>1</td>\n",
       "      <td>3.0</td>\n",
       "      <td>3.0</td>\n",
       "      <td>985</td>\n",
       "      <td>18.0</td>\n",
       "      <td>Flat</td>\n",
       "      <td>csmms/b</td>\n",
       "      <td>wlr/bhr</td>\n",
       "      <td>c</td>\n",
       "      <td>TImber/Bamboo-Mud</td>\n",
       "      <td>...</td>\n",
       "      <td>0.0</td>\n",
       "      <td>nr</td>\n",
       "      <td>1.0</td>\n",
       "      <td>np</td>\n",
       "      <td>ni</td>\n",
       "      <td>ng</td>\n",
       "      <td>unavailable</td>\n",
       "      <td>5.0</td>\n",
       "      <td>2.0</td>\n",
       "      <td>5.0</td>\n",
       "    </tr>\n",
       "    <tr>\n",
       "      <th>2</th>\n",
       "      <td>2</td>\n",
       "      <td>2.0</td>\n",
       "      <td>7.0</td>\n",
       "      <td>300</td>\n",
       "      <td>14.0</td>\n",
       "      <td>Flat</td>\n",
       "      <td>mms/b</td>\n",
       "      <td>b/tlr</td>\n",
       "      <td>c</td>\n",
       "      <td>Wood-Mud or Bamboo Mud</td>\n",
       "      <td>...</td>\n",
       "      <td>0.0</td>\n",
       "      <td>nr</td>\n",
       "      <td>1.0</td>\n",
       "      <td>np</td>\n",
       "      <td>ni</td>\n",
       "      <td>ng</td>\n",
       "      <td>unavailable</td>\n",
       "      <td>5.0</td>\n",
       "      <td>2.0</td>\n",
       "      <td>5.0</td>\n",
       "    </tr>\n",
       "    <tr>\n",
       "      <th>3</th>\n",
       "      <td>3</td>\n",
       "      <td>2.0</td>\n",
       "      <td>18.0</td>\n",
       "      <td>185</td>\n",
       "      <td>15.0</td>\n",
       "      <td>Flat</td>\n",
       "      <td>csmms/b</td>\n",
       "      <td>wlr/blr</td>\n",
       "      <td>c</td>\n",
       "      <td>TImber/Bamboo-Mud</td>\n",
       "      <td>...</td>\n",
       "      <td>0.0</td>\n",
       "      <td>nr</td>\n",
       "      <td>1.0</td>\n",
       "      <td>np</td>\n",
       "      <td>ni</td>\n",
       "      <td>ng</td>\n",
       "      <td>unavailable</td>\n",
       "      <td>5.0</td>\n",
       "      <td>2.0</td>\n",
       "      <td>4.0</td>\n",
       "    </tr>\n",
       "    <tr>\n",
       "      <th>4</th>\n",
       "      <td>4</td>\n",
       "      <td>2.0</td>\n",
       "      <td>22.0</td>\n",
       "      <td>290</td>\n",
       "      <td>17.0</td>\n",
       "      <td>Flat</td>\n",
       "      <td>csmms/b</td>\n",
       "      <td>b/tlr</td>\n",
       "      <td>c</td>\n",
       "      <td>Timber Mud or Bamboo-Mud</td>\n",
       "      <td>...</td>\n",
       "      <td>0.0</td>\n",
       "      <td>nr</td>\n",
       "      <td>1.0</td>\n",
       "      <td>np</td>\n",
       "      <td>ni</td>\n",
       "      <td>ng</td>\n",
       "      <td>unavailable</td>\n",
       "      <td>5.0</td>\n",
       "      <td>2.0</td>\n",
       "      <td>1.0</td>\n",
       "    </tr>\n",
       "    <tr>\n",
       "      <th>5</th>\n",
       "      <td>5</td>\n",
       "      <td>2.0</td>\n",
       "      <td>15.0</td>\n",
       "      <td>300</td>\n",
       "      <td>18.0</td>\n",
       "      <td>Flat</td>\n",
       "      <td>csmms/b</td>\n",
       "      <td>b/tlr</td>\n",
       "      <td>c</td>\n",
       "      <td>TImber/Bamboo-Mud</td>\n",
       "      <td>...</td>\n",
       "      <td>0.0</td>\n",
       "      <td>nr</td>\n",
       "      <td>1.0</td>\n",
       "      <td>np</td>\n",
       "      <td>ni</td>\n",
       "      <td>ng</td>\n",
       "      <td>unavailable</td>\n",
       "      <td>5.0</td>\n",
       "      <td>2.0</td>\n",
       "      <td>5.0</td>\n",
       "    </tr>\n",
       "    <tr>\n",
       "      <th>6</th>\n",
       "      <td>6</td>\n",
       "      <td>2.0</td>\n",
       "      <td>33.0</td>\n",
       "      <td>300</td>\n",
       "      <td>16.0</td>\n",
       "      <td>Flat</td>\n",
       "      <td>csmms/b</td>\n",
       "      <td>b/tlr</td>\n",
       "      <td>c</td>\n",
       "      <td>Wood-Mud or Bamboo Mud</td>\n",
       "      <td>...</td>\n",
       "      <td>0.0</td>\n",
       "      <td>nr</td>\n",
       "      <td>1.0</td>\n",
       "      <td>np</td>\n",
       "      <td>ni</td>\n",
       "      <td>ng</td>\n",
       "      <td>unavailable</td>\n",
       "      <td>5.0</td>\n",
       "      <td>2.0</td>\n",
       "      <td>4.0</td>\n",
       "    </tr>\n",
       "    <tr>\n",
       "      <th>7</th>\n",
       "      <td>7</td>\n",
       "      <td>2.0</td>\n",
       "      <td>40.0</td>\n",
       "      <td>504</td>\n",
       "      <td>14.0</td>\n",
       "      <td>Flat</td>\n",
       "      <td>cms/b</td>\n",
       "      <td>b/tlr</td>\n",
       "      <td>c</td>\n",
       "      <td>TImber/Bamboo-Mud</td>\n",
       "      <td>...</td>\n",
       "      <td>0.0</td>\n",
       "      <td>nr</td>\n",
       "      <td>1.0</td>\n",
       "      <td>np</td>\n",
       "      <td>ni</td>\n",
       "      <td>ng</td>\n",
       "      <td>unavailable</td>\n",
       "      <td>5.0</td>\n",
       "      <td>2.0</td>\n",
       "      <td>4.0</td>\n",
       "    </tr>\n",
       "    <tr>\n",
       "      <th>8</th>\n",
       "      <td>8</td>\n",
       "      <td>2.0</td>\n",
       "      <td>27.0</td>\n",
       "      <td>616</td>\n",
       "      <td>14.0</td>\n",
       "      <td>Flat</td>\n",
       "      <td>csmms/b</td>\n",
       "      <td>b/tlr</td>\n",
       "      <td>c</td>\n",
       "      <td>TImber/Bamboo-Mud</td>\n",
       "      <td>...</td>\n",
       "      <td>0.0</td>\n",
       "      <td>nr</td>\n",
       "      <td>1.0</td>\n",
       "      <td>np</td>\n",
       "      <td>ni</td>\n",
       "      <td>ng</td>\n",
       "      <td>unavailable</td>\n",
       "      <td>5.0</td>\n",
       "      <td>2.0</td>\n",
       "      <td>4.0</td>\n",
       "    </tr>\n",
       "    <tr>\n",
       "      <th>9</th>\n",
       "      <td>9</td>\n",
       "      <td>1.0</td>\n",
       "      <td>33.0</td>\n",
       "      <td>600</td>\n",
       "      <td>9.0</td>\n",
       "      <td>Flat</td>\n",
       "      <td>cms/b</td>\n",
       "      <td>b/tlr</td>\n",
       "      <td>m</td>\n",
       "      <td>Not applicable</td>\n",
       "      <td>...</td>\n",
       "      <td>0.0</td>\n",
       "      <td>nr</td>\n",
       "      <td>1.0</td>\n",
       "      <td>np</td>\n",
       "      <td>ni</td>\n",
       "      <td>ng</td>\n",
       "      <td>unavailable</td>\n",
       "      <td>5.0</td>\n",
       "      <td>2.0</td>\n",
       "      <td>5.0</td>\n",
       "    </tr>\n",
       "    <tr>\n",
       "      <th>10</th>\n",
       "      <td>10</td>\n",
       "      <td>2.0</td>\n",
       "      <td>68.0</td>\n",
       "      <td>500</td>\n",
       "      <td>18.0</td>\n",
       "      <td>Flat</td>\n",
       "      <td>csmms/b</td>\n",
       "      <td>wlr/blr</td>\n",
       "      <td>c</td>\n",
       "      <td>Wood or Bamboo Mud</td>\n",
       "      <td>...</td>\n",
       "      <td>0.0</td>\n",
       "      <td>nr</td>\n",
       "      <td>1.0</td>\n",
       "      <td>np</td>\n",
       "      <td>ni</td>\n",
       "      <td>ng</td>\n",
       "      <td>available</td>\n",
       "      <td>5.0</td>\n",
       "      <td>2.0</td>\n",
       "      <td>2.0</td>\n",
       "    </tr>\n",
       "    <tr>\n",
       "      <th>11</th>\n",
       "      <td>11</td>\n",
       "      <td>2.0</td>\n",
       "      <td>25.0</td>\n",
       "      <td>300</td>\n",
       "      <td>18.0</td>\n",
       "      <td>Moderate slope</td>\n",
       "      <td>csmms/b</td>\n",
       "      <td>b/tlr</td>\n",
       "      <td>b/s</td>\n",
       "      <td>TImber/Bamboo-Mud</td>\n",
       "      <td>...</td>\n",
       "      <td>0.0</td>\n",
       "      <td>nr</td>\n",
       "      <td>1.0</td>\n",
       "      <td>np</td>\n",
       "      <td>ni</td>\n",
       "      <td>ng</td>\n",
       "      <td>unavailable</td>\n",
       "      <td>5.0</td>\n",
       "      <td>2.0</td>\n",
       "      <td>3.0</td>\n",
       "    </tr>\n",
       "    <tr>\n",
       "      <th>12</th>\n",
       "      <td>12</td>\n",
       "      <td>2.0</td>\n",
       "      <td>15.0</td>\n",
       "      <td>300</td>\n",
       "      <td>18.0</td>\n",
       "      <td>Flat</td>\n",
       "      <td>csmms/b</td>\n",
       "      <td>b/tlr</td>\n",
       "      <td>c</td>\n",
       "      <td>TImber/Bamboo-Mud</td>\n",
       "      <td>...</td>\n",
       "      <td>0.0</td>\n",
       "      <td>nr</td>\n",
       "      <td>1.0</td>\n",
       "      <td>np</td>\n",
       "      <td>ni</td>\n",
       "      <td>ng</td>\n",
       "      <td>unavailable</td>\n",
       "      <td>5.0</td>\n",
       "      <td>2.0</td>\n",
       "      <td>5.0</td>\n",
       "    </tr>\n",
       "    <tr>\n",
       "      <th>13</th>\n",
       "      <td>13</td>\n",
       "      <td>2.0</td>\n",
       "      <td>15.0</td>\n",
       "      <td>300</td>\n",
       "      <td>18.0</td>\n",
       "      <td>Flat</td>\n",
       "      <td>csmms/b</td>\n",
       "      <td>b/tlr</td>\n",
       "      <td>c</td>\n",
       "      <td>TImber/Bamboo-Mud</td>\n",
       "      <td>...</td>\n",
       "      <td>0.0</td>\n",
       "      <td>nr</td>\n",
       "      <td>1.0</td>\n",
       "      <td>np</td>\n",
       "      <td>ni</td>\n",
       "      <td>ng</td>\n",
       "      <td>unavailable</td>\n",
       "      <td>5.0</td>\n",
       "      <td>2.0</td>\n",
       "      <td>1.0</td>\n",
       "    </tr>\n",
       "    <tr>\n",
       "      <th>14</th>\n",
       "      <td>14</td>\n",
       "      <td>2.0</td>\n",
       "      <td>15.0</td>\n",
       "      <td>300</td>\n",
       "      <td>18.0</td>\n",
       "      <td>Flat</td>\n",
       "      <td>csmms/b</td>\n",
       "      <td>b/tlr</td>\n",
       "      <td>c</td>\n",
       "      <td>TImber/Bamboo-Mud</td>\n",
       "      <td>...</td>\n",
       "      <td>0.0</td>\n",
       "      <td>nr</td>\n",
       "      <td>1.0</td>\n",
       "      <td>np</td>\n",
       "      <td>ni</td>\n",
       "      <td>ng</td>\n",
       "      <td>unavailable</td>\n",
       "      <td>2.0</td>\n",
       "      <td>2.0</td>\n",
       "      <td>1.0</td>\n",
       "    </tr>\n",
       "    <tr>\n",
       "      <th>15</th>\n",
       "      <td>15</td>\n",
       "      <td>5.0</td>\n",
       "      <td>15.0</td>\n",
       "      <td>1000</td>\n",
       "      <td>45.0</td>\n",
       "      <td>Flat</td>\n",
       "      <td>rc</td>\n",
       "      <td>rbs/rcc/rbc</td>\n",
       "      <td>rc</td>\n",
       "      <td>rcc/rb/rbc</td>\n",
       "      <td>...</td>\n",
       "      <td>2.0</td>\n",
       "      <td>hm</td>\n",
       "      <td>1.0</td>\n",
       "      <td>np</td>\n",
       "      <td>ni</td>\n",
       "      <td>ng</td>\n",
       "      <td>unavailable</td>\n",
       "      <td>0.0</td>\n",
       "      <td>0.0</td>\n",
       "      <td>4.0</td>\n",
       "    </tr>\n",
       "  </tbody>\n",
       "</table>\n",
       "<p>16 rows × 25 columns</p>\n",
       "</div>"
      ],
      "text/plain": [
       "    id  floors_before_eq (total)  old_building plinth_area (ft^2)   \n",
       "0    0                       2.0           1.0                256  \\\n",
       "1    1                       3.0           3.0                985   \n",
       "2    2                       2.0           7.0                300   \n",
       "3    3                       2.0          18.0                185   \n",
       "4    4                       2.0          22.0                290   \n",
       "5    5                       2.0          15.0                300   \n",
       "6    6                       2.0          33.0                300   \n",
       "7    7                       2.0          40.0                504   \n",
       "8    8                       2.0          27.0                616   \n",
       "9    9                       1.0          33.0                600   \n",
       "10  10                       2.0          68.0                500   \n",
       "11  11                       2.0          25.0                300   \n",
       "12  12                       2.0          15.0                300   \n",
       "13  13                       2.0          15.0                300   \n",
       "14  14                       2.0          15.0                300   \n",
       "15  15                       5.0          15.0               1000   \n",
       "\n",
       "    height_before_eq (ft) land_surface_condition type_of_foundation   \n",
       "0                    22.0                   Flat                b/t  \\\n",
       "1                    18.0                   Flat            csmms/b   \n",
       "2                    14.0                   Flat              mms/b   \n",
       "3                    15.0                   Flat            csmms/b   \n",
       "4                    17.0                   Flat            csmms/b   \n",
       "5                    18.0                   Flat            csmms/b   \n",
       "6                    16.0                   Flat            csmms/b   \n",
       "7                    14.0                   Flat              cms/b   \n",
       "8                    14.0                   Flat            csmms/b   \n",
       "9                     9.0                   Flat              cms/b   \n",
       "10                   18.0                   Flat            csmms/b   \n",
       "11                   18.0         Moderate slope            csmms/b   \n",
       "12                   18.0                   Flat            csmms/b   \n",
       "13                   18.0                   Flat            csmms/b   \n",
       "14                   18.0                   Flat            csmms/b   \n",
       "15                   45.0                   Flat                 rc   \n",
       "\n",
       "   type_of_roof type_of_ground_floor       type_of_other_floor  ...   \n",
       "0         b/tlr                    c         TImber/Bamboo-Mud  ...  \\\n",
       "1       wlr/bhr                    c         TImber/Bamboo-Mud  ...   \n",
       "2         b/tlr                    c    Wood-Mud or Bamboo Mud  ...   \n",
       "3       wlr/blr                    c         TImber/Bamboo-Mud  ...   \n",
       "4         b/tlr                    c  Timber Mud or Bamboo-Mud  ...   \n",
       "5         b/tlr                    c         TImber/Bamboo-Mud  ...   \n",
       "6         b/tlr                    c    Wood-Mud or Bamboo Mud  ...   \n",
       "7         b/tlr                    c         TImber/Bamboo-Mud  ...   \n",
       "8         b/tlr                    c         TImber/Bamboo-Mud  ...   \n",
       "9         b/tlr                    m            Not applicable  ...   \n",
       "10      wlr/blr                    c        Wood or Bamboo Mud  ...   \n",
       "11        b/tlr                  b/s         TImber/Bamboo-Mud  ...   \n",
       "12        b/tlr                    c         TImber/Bamboo-Mud  ...   \n",
       "13        b/tlr                    c         TImber/Bamboo-Mud  ...   \n",
       "14        b/tlr                    c         TImber/Bamboo-Mud  ...   \n",
       "15  rbs/rcc/rbc                   rc                rcc/rb/rbc  ...   \n",
       "\n",
       "   type_of_reinforcement_concrete residential_type no_family_residing   \n",
       "0                             0.0               nr                1.0  \\\n",
       "1                             0.0               nr                1.0   \n",
       "2                             0.0               nr                1.0   \n",
       "3                             0.0               nr                1.0   \n",
       "4                             0.0               nr                1.0   \n",
       "5                             0.0               nr                1.0   \n",
       "6                             0.0               nr                1.0   \n",
       "7                             0.0               nr                1.0   \n",
       "8                             0.0               nr                1.0   \n",
       "9                             0.0               nr                1.0   \n",
       "10                            0.0               nr                1.0   \n",
       "11                            0.0               nr                1.0   \n",
       "12                            0.0               nr                1.0   \n",
       "13                            0.0               nr                1.0   \n",
       "14                            0.0               nr                1.0   \n",
       "15                            2.0               hm                1.0   \n",
       "\n",
       "   public_place_type  industrial_use_type  govermental_use_type   \n",
       "0                 np                   ni                    ng  \\\n",
       "1                 np                   ni                    ng   \n",
       "2                 np                   ni                    ng   \n",
       "3                 np                   ni                    ng   \n",
       "4                 np                   ni                    ng   \n",
       "5                 np                   ni                    ng   \n",
       "6                 np                   ni                    ng   \n",
       "7                 np                   ni                    ng   \n",
       "8                 np                   ni                    ng   \n",
       "9                 np                   ni                    ng   \n",
       "10                np                   ni                    ng   \n",
       "11                np                   ni                    ng   \n",
       "12                np                   ni                    ng   \n",
       "13                np                   ni                    ng   \n",
       "14                np                   ni                    ng   \n",
       "15                np                   ni                    ng   \n",
       "\n",
       "   flexible_superstructure  wall_binding wall_material damage_grade  \n",
       "0              unavailable           0.0           0.0          1.0  \n",
       "1              unavailable           5.0           2.0          5.0  \n",
       "2              unavailable           5.0           2.0          5.0  \n",
       "3              unavailable           5.0           2.0          4.0  \n",
       "4              unavailable           5.0           2.0          1.0  \n",
       "5              unavailable           5.0           2.0          5.0  \n",
       "6              unavailable           5.0           2.0          4.0  \n",
       "7              unavailable           5.0           2.0          4.0  \n",
       "8              unavailable           5.0           2.0          4.0  \n",
       "9              unavailable           5.0           2.0          5.0  \n",
       "10               available           5.0           2.0          2.0  \n",
       "11             unavailable           5.0           2.0          3.0  \n",
       "12             unavailable           5.0           2.0          5.0  \n",
       "13             unavailable           5.0           2.0          1.0  \n",
       "14             unavailable           2.0           2.0          1.0  \n",
       "15             unavailable           0.0           0.0          4.0  \n",
       "\n",
       "[16 rows x 25 columns]"
      ]
     },
     "execution_count": 6,
     "metadata": {},
     "output_type": "execute_result"
    }
   ],
   "source": [
    "df_copy.head(16)"
   ]
  },
  {
   "cell_type": "code",
   "execution_count": 19,
   "metadata": {},
   "outputs": [
    {
     "name": "stdout",
     "output_type": "stream",
     "text": [
      "\t\t-------floors_before_eq (total)-------\n"
     ]
    },
    {
     "data": {
      "text/plain": [
       "array([2., 3., 1., 5., 4., 6., 8., 9., 7.])"
      ]
     },
     "metadata": {},
     "output_type": "display_data"
    },
    {
     "name": "stdout",
     "output_type": "stream",
     "text": [
      "\t\t-------old_building-------\n"
     ]
    },
    {
     "data": {
      "text/plain": [
       "array([  1.,   3.,   7.,  18.,  22.,  15.,  33.,  40.,  27.,  68.,  25.,\n",
       "        20.,  28.,  35.,  10.,   4.,   8.,   5.,  12.,  32.,  45.,  13.,\n",
       "        50.,   6.,  36.,  70.,  30.,  14.,  75.,  90.,  34.,  24.,   2.,\n",
       "         9.,  16.,  29., 999.,  67.,  60.,  26.,  38.,   0.,  17.,  37.,\n",
       "        19.,  80.,  21.,  11.,  55.,  44.,  39.,  23.,  65.,  48.,  85.,\n",
       "        52.,  31., 100.,  57.,  42.,  41.,  62., 120.,  64.,  43.,  49.,\n",
       "        47.,  46.,  88.,  82.,  87.,  69., 105.,  99.,  54., 140.,  51.,\n",
       "        72.,  95.,  63., 150., 176.,  59.,  81.,  58.,  61.,  53.,  56.,\n",
       "        84., 110.,  66.,  74.,  98.,  86., 109., 111., 200.,  73., 103.,\n",
       "        79., 112.,  78.,  97.,  92., 160.,  71., 180.,  76.,  91.,  96.,\n",
       "       101., 166., 106., 118., 108.,  83.,  77., 145., 130., 117.,  93.,\n",
       "       102., 135., 104., 170., 131., 115.,  89., 125., 128., 119.,  94.,\n",
       "       190., 174., 126., 132., 113., 116., 144., 162., 138., 195., 141.,\n",
       "       122., 175., 161., 196., 107., 121., 151., 142., 177., 124., 127.,\n",
       "       134., 178., 133., 123., 172., 168.])"
      ]
     },
     "metadata": {},
     "output_type": "display_data"
    },
    {
     "name": "stdout",
     "output_type": "stream",
     "text": [
      "\t\t-------plinth_area (ft^2)-------\n"
     ]
    },
    {
     "data": {
      "text/plain": [
       "array([ 256,  985,  300,  185,  290,  504,  616,  600,  500, 1000,  366,\n",
       "        150,  352,  358,  250,  360,  550,  310,  400,  735,  464,  380,\n",
       "        342,  384,  432,  375,  490,  780,  494,  278,  228,  475,  440,\n",
       "        280,  288,  368,  312,  450,  383,  425,  968,  200,  140,  410,\n",
       "        264,  194,  230,  438,  405,  130,  297,  525,  392,  176,  420,\n",
       "        242,  286,  364,  210,  445,  495,  240,  340,  660,  396,  233,\n",
       "        260,  289,  508,  299,  320,  648,  222,  301,  265,  270,  544,\n",
       "        220,  153,  700,  350,  285,  351,  174,  800,  315,  318,  173,\n",
       "        478,  465,  324,  338,  462,  356,  483,  496,  325,  253,  155,\n",
       "        246,  190,  435,  820,  225,  216,  272,  385,  180,  810,  382,\n",
       "        620,  363,  590,  160,  434,  357,  531,  152,  430,  245,  263,\n",
       "        416,  567,  594,  204,  576,  486,  309,  378,  284,  562,  177,\n",
       "        255,  545,  305,  390,  171,  456,  588,  100,  348,  231,  850,\n",
       "        729,  510,  125,  460,  437,  409,  247,  361,  170,  214,  609,\n",
       "        322,  275,  960,  916,  387,   96,  900,  303,  520,  528,  487,\n",
       "        999,  344,  540,  295,  252,  725,  336,  165,  472,  862,  734,\n",
       "        750,  412,  448,  205,  308,  990,  332,  408,  182,  676,  446,\n",
       "        330,  580,  555,  304,  650,  816,  370,  485,   86,  918,  665,\n",
       "        337,  391,  442,  452,  640,  266,  720,  418,  961,  120,  198,\n",
       "        283,  144,  468,  551,  613,  860,  279,  208,  321,  238,  547,\n",
       "        674,  234,  480,  202,  424,  196,  281,  257,  526,  345,  708,\n",
       "        532,  793,  506,  388,  745,  223,  455,  570,  598,  509,  629,\n",
       "        323,  459,  578,  702,  188,  365,  957,  413,  215,  217,  684,\n",
       "        110,  756,  254,  924,  339,  911,  376,  294,  224,  287,  577,\n",
       "        612,  232,  530,  386,  492,  404,  414,  507,  513,  244,  680,\n",
       "        792,  362,  249,  840,  355,  770,  296,  273,  512,  343,  896,\n",
       "        493,   81,  235,  945,  298,  282,  476,  218,  203,  560,  651,\n",
       "        276,  394,  374,  123,  630,  379,  685,  585,  607,  306,  754,\n",
       "        175,  805,  326,  398,  406,  189,  426,  316,  302,  167,  341,\n",
       "        714,  989,  261,  675,  882,  441,  347,  377,  952,  199,  453,\n",
       "        415,  537,  581,  346,  644,  912,  722,  207,  395,  522,  135,\n",
       "        621,  572,  614,  129,   90,  536,  128,  132,  421,  755,  429,\n",
       "        646,  973,  690,  656,  419,  950,  335,   99,  891,  389,  704,\n",
       "        552,  897,  427,   80,  268,  693,  739,  561,  354,  615,  311,\n",
       "        681,  371,  436,  602,  584,  124,  457,  241,  794,  748,  524,\n",
       "        147,  741,  226,  484,  195,  940,  686,  138,  538,  527,  855,\n",
       "        870,  604,   84,  444,  518,  156,  832,  556,  497,  458,  658,\n",
       "        682,  812,  825,  433,  529,  608,  610,  864,  470,  647,  399,\n",
       "        501,  546,  573,  221,  466,  742,  403,  401,  463,  553,  454,\n",
       "        292,  649,  314,  237,  920,  179,  625,  575,  521,  571,  936,\n",
       "        776,  411,  788,  759,  145,  193,  148,  277,  778,  209,  801,\n",
       "        821,  201,  327,  293,  192,  558,  168,  696,  307,  236,  248,\n",
       "        517,  851,  962,   91,  533,  407,  267,  715,   85,  369,  154,\n",
       "        790,  259,  654,  710,  774,  505,  652,  229,  779,  515,  638,\n",
       "        738,  187,  251,  728,  712,  830,  760,  634,  417,  184,  393,\n",
       "        623,  111,  736,  740,  861,  105,  212,  514,  467,  108,  328,\n",
       "        474,  784,  713,  258,  592,  431,  469,  798,  930,  672,  841,\n",
       "        819,  668,  975,   75,  372,  856,  589,  535,  669,  925,  718,\n",
       "        730,  213,  477,  777,  586,  595,  449,  659,  596,  559,  349,\n",
       "        803,  162,  606,  117,  134,  479,  269,  753,  761,  534,  980,\n",
       "        837,   72,  619,  931,  817,  929,  109,  516,  146,  645,  565,\n",
       "        618,  689,  422,  752,  481,  744,  978,  836,  227,  121,  313,\n",
       "        956,  726,  211,  423,  661,  628,  875,  627,  914,  898,  317,\n",
       "        353,  663,  603,  239,  845,  874,  789,  262,  574,  564,  662,\n",
       "        186,  334,  502,  402,  605,  922,  786,  428,  783,  583,  291,\n",
       "        181,  367,  149,  169,  164,  243,  333,  910,  955,  554,  826,\n",
       "        986,  511,  814,  624,  115,  548,  114,  397,  381,  764,  488,\n",
       "        703,  972,  473,  151,  666,  593,  587,  206,  373,  643,  451,\n",
       "        639,  329,  867,  765,  166,  142,  653,  489,  822,  954,  158,\n",
       "        758,  679,  626,  905,  163,  670,  331,  503,  219,   88,  694,\n",
       "        677,  482,  319,  688,  443,  274,  178,  447,  890,  933,  116,\n",
       "        948,  737,  823,   70,  782,  126,  667,  579,  880,  888,  642,\n",
       "        141,  747,  523,  633,  566,  943,  839,  563,  542,  568,  853,\n",
       "        687,  983,  549,  617,  865,  732,  119,  557,   95,  582,  499,\n",
       "        876,  697,  271,  136,  498,  749,  928,  143,  664,  899,   94,\n",
       "        102,  804,  611,  969,  439,  813,  159,  706,  893,  843,  104,\n",
       "        946,  724,  988,  884,  913,  970,  691,  775,  543,  183,  122,\n",
       "        883,  107,  992,  886,  597,  541,  834,  868,  359,  854,  701,\n",
       "        903,  636,  949,  157,  112,  631,  197,  601,  635,  858,  569,\n",
       "        768,  491,  657,  902,  127,  695,  622,  139,  705,  137,  915,\n",
       "        806,   92,  995,  829,  878,  879,   77,  833,  698,  942,  796,\n",
       "        751,  716,  892,  787,  844,  637,  599,  118,  641,  979,  919,\n",
       "        998,  763,  852,  842,  781,   74,  938,  711,  673,  591,  785,\n",
       "        944,  795,  683,  815,  846,  827,  632,  172,  904,  807,  692,\n",
       "        731,  965,  908,  113,  471,  921,  866,  953,  877,  191,  831,\n",
       "        519,  894,  889,  771,  461,  733,  161,  828,   93,  709,  717,\n",
       "        743,  727,  103,  981,  984,   73,  799,  963,  757,  895,  678,\n",
       "        723,  993,  991,  885,  655,  849,  994,  106,  101,  791,  987,\n",
       "        772,  824,  769,  809,  811,   82,  996,  906,  746,  974,  966,\n",
       "        947,  721,  909,  881,  982,  133,  932,  773,   98,  939,   87,\n",
       "        539,  937,  699,  887,  869,  818,  848,  941,  857,  808,   78,\n",
       "        835,  964,  131,  762,  923,  766,  934,  901,  872,  935,  859,\n",
       "        958,  719,  917,  927,  873,  671,  976,  767,   79,  707,  838,\n",
       "        871,  847,  971,  959,   71,  926,  802,  967,  907,   97,  951,\n",
       "        863,  997,  797,   89,   76])"
      ]
     },
     "metadata": {},
     "output_type": "display_data"
    },
    {
     "name": "stdout",
     "output_type": "stream",
     "text": [
      "\t\t-------height_before_eq (ft)-------\n"
     ]
    },
    {
     "data": {
      "text/plain": [
       "array([22., 18., 14., 15., 17., 16.,  9., 45., 19., 10., 12., 20., 21.,\n",
       "       25.,  6., 24.,  7., 13.,  8., 11., 30., 23., 27., 36., 26., 40.,\n",
       "       56., 32., 28., 29., 35., 38., 31., 74., 34., 50., 65., 99., 33.,\n",
       "       60., 48., 75., 51., 54., 46., 44., 47., 70., 55., 80., 61., 37.,\n",
       "       93., 52., 77., 96., 72., 81., 42., 64., 85., 39., 57., 63., 95.,\n",
       "       67., 43., 78., 49., 41., 58., 68., 76., 90., 66., 71., 89.])"
      ]
     },
     "metadata": {},
     "output_type": "display_data"
    },
    {
     "name": "stdout",
     "output_type": "stream",
     "text": [
      "\t\t-------land_surface_condition-------\n"
     ]
    },
    {
     "data": {
      "text/plain": [
       "array([0, 1, 2])"
      ]
     },
     "metadata": {},
     "output_type": "display_data"
    },
    {
     "name": "stdout",
     "output_type": "stream",
     "text": [
      "\t\t-------type_of_foundation-------\n"
     ]
    },
    {
     "data": {
      "text/plain": [
       "array([0, 4, 5, 1, 7, 3, 6, 2])"
      ]
     },
     "metadata": {},
     "output_type": "display_data"
    },
    {
     "name": "stdout",
     "output_type": "stream",
     "text": [
      "\t\t-------type_of_roof-------\n"
     ]
    },
    {
     "data": {
      "text/plain": [
       "array([1, 5, 6, 3, 0, 4, 2])"
      ]
     },
     "metadata": {},
     "output_type": "display_data"
    },
    {
     "name": "stdout",
     "output_type": "stream",
     "text": [
      "\t\t-------type_of_ground_floor-------\n"
     ]
    },
    {
     "data": {
      "text/plain": [
       "array([ 4,  6,  2,  9,  7, 10,  1, 11,  3,  8,  5,  0, 12, 13])"
      ]
     },
     "metadata": {},
     "output_type": "display_data"
    },
    {
     "name": "stdout",
     "output_type": "stream",
     "text": [
      "\t\t-------type_of_other_floor-------\n"
     ]
    },
    {
     "data": {
      "text/plain": [
       "array([2, 6, 3, 1, 5, 9, 7, 4, 0, 8])"
      ]
     },
     "metadata": {},
     "output_type": "display_data"
    },
    {
     "name": "stdout",
     "output_type": "stream",
     "text": [
      "\t\t-------position-------\n"
     ]
    },
    {
     "data": {
      "text/plain": [
       "array([3, 0, 1, 2])"
      ]
     },
     "metadata": {},
     "output_type": "display_data"
    },
    {
     "name": "stdout",
     "output_type": "stream",
     "text": [
      "\t\t-------building_plan_configuration-------\n"
     ]
    },
    {
     "data": {
      "text/plain": [
       "array([6, 7, 3, 8, 4, 9, 5, 1, 0, 2])"
      ]
     },
     "metadata": {},
     "output_type": "display_data"
    },
    {
     "name": "stdout",
     "output_type": "stream",
     "text": [
      "\t\t-------technical_solution_proposed-------\n"
     ]
    },
    {
     "data": {
      "text/plain": [
       "array([3, 0, 2, 1])"
      ]
     },
     "metadata": {},
     "output_type": "display_data"
    },
    {
     "name": "stdout",
     "output_type": "stream",
     "text": [
      "\t\t-------legal_ownership_status-------\n"
     ]
    },
    {
     "data": {
      "text/plain": [
       "array([6, 1, 7, 0, 2, 4, 3, 5])"
      ]
     },
     "metadata": {},
     "output_type": "display_data"
    },
    {
     "name": "stdout",
     "output_type": "stream",
     "text": [
      "\t\t-------has_secondary_use-------\n"
     ]
    },
    {
     "data": {
      "text/plain": [
       "array([0., 1.])"
      ]
     },
     "metadata": {},
     "output_type": "display_data"
    },
    {
     "name": "stdout",
     "output_type": "stream",
     "text": [
      "\t\t-------type_of_reinforcement_concrete-------\n"
     ]
    },
    {
     "data": {
      "text/plain": [
       "array([0., 2., 1., 3.])"
      ]
     },
     "metadata": {},
     "output_type": "display_data"
    },
    {
     "name": "stdout",
     "output_type": "stream",
     "text": [
      "\t\t-------residential_type-------\n"
     ]
    },
    {
     "data": {
      "text/plain": [
       "array([2, 1, 5, 0, 3, 4])"
      ]
     },
     "metadata": {},
     "output_type": "display_data"
    },
    {
     "name": "stdout",
     "output_type": "stream",
     "text": [
      "\t\t-------no_family_residing-------\n"
     ]
    },
    {
     "data": {
      "text/plain": [
       "array([ 1,  0,  3,  4,  5,  8,  6,  7, 10,  9,  2])"
      ]
     },
     "metadata": {},
     "output_type": "display_data"
    },
    {
     "name": "stdout",
     "output_type": "stream",
     "text": [
      "\t\t-------public_place_type-------\n"
     ]
    },
    {
     "data": {
      "text/plain": [
       "array([12,  9,  6,  0,  1, 10,  3,  2, 11,  4,  7,  8,  5])"
      ]
     },
     "metadata": {},
     "output_type": "display_data"
    },
    {
     "name": "stdout",
     "output_type": "stream",
     "text": [
      "\t\t-------industrial_use_type-------\n"
     ]
    },
    {
     "data": {
      "text/plain": [
       "array([7, 5, 8, 2, 4, 3, 0, 1, 6])"
      ]
     },
     "metadata": {},
     "output_type": "display_data"
    },
    {
     "name": "stdout",
     "output_type": "stream",
     "text": [
      "\t\t-------govermental_use_type-------\n"
     ]
    },
    {
     "data": {
      "text/plain": [
       "array([2, 1, 0])"
      ]
     },
     "metadata": {},
     "output_type": "display_data"
    },
    {
     "name": "stdout",
     "output_type": "stream",
     "text": [
      "\t\t-------flexible_superstructure-------\n"
     ]
    },
    {
     "data": {
      "text/plain": [
       "array([1, 0])"
      ]
     },
     "metadata": {},
     "output_type": "display_data"
    },
    {
     "name": "stdout",
     "output_type": "stream",
     "text": [
      "\t\t-------wall_binding-------\n"
     ]
    },
    {
     "data": {
      "text/plain": [
       "array([0., 5., 2., 1., 7., 3.])"
      ]
     },
     "metadata": {},
     "output_type": "display_data"
    },
    {
     "name": "stdout",
     "output_type": "stream",
     "text": [
      "\t\t-------wall_material-------\n"
     ]
    },
    {
     "data": {
      "text/plain": [
       "array([0., 2., 1., 3.])"
      ]
     },
     "metadata": {},
     "output_type": "display_data"
    },
    {
     "name": "stdout",
     "output_type": "stream",
     "text": [
      "\t\t-------damage_grade-------\n"
     ]
    },
    {
     "data": {
      "text/plain": [
       "array([1., 5., 4., 2., 3.])"
      ]
     },
     "metadata": {},
     "output_type": "display_data"
    }
   ],
   "source": [
    "for i in df_copy.columns[1:]:\n",
    "    print(f\"\\t\\t-------{i}-------\")\n",
    "    display(df_copy[i].unique())"
   ]
  },
  {
   "cell_type": "code",
   "execution_count": 7,
   "metadata": {},
   "outputs": [
    {
     "name": "stdout",
     "output_type": "stream",
     "text": [
      "<class 'pandas.core.frame.DataFrame'>\n",
      "RangeIndex: 722815 entries, 0 to 722814\n",
      "Data columns (total 25 columns):\n",
      " #   Column                          Non-Null Count   Dtype  \n",
      "---  ------                          --------------   -----  \n",
      " 0   id                              722815 non-null  int64  \n",
      " 1   floors_before_eq (total)        722815 non-null  float64\n",
      " 2   old_building                    722815 non-null  float64\n",
      " 3   plinth_area (ft^2)              722815 non-null  object \n",
      " 4   height_before_eq (ft)           722815 non-null  float64\n",
      " 5   land_surface_condition          722815 non-null  object \n",
      " 6   type_of_foundation              722815 non-null  object \n",
      " 7   type_of_roof                    722815 non-null  object \n",
      " 8   type_of_ground_floor            722815 non-null  object \n",
      " 9   type_of_other_floor             722815 non-null  object \n",
      " 10  position                        722815 non-null  object \n",
      " 11  building_plan_configuration     722815 non-null  object \n",
      " 12  technical_solution_proposed     722815 non-null  object \n",
      " 13  legal_ownership_status          722815 non-null  object \n",
      " 14  has_secondary_use               722815 non-null  float64\n",
      " 15  type_of_reinforcement_concrete  722815 non-null  float64\n",
      " 16  residential_type                722815 non-null  object \n",
      " 17  no_family_residing              722815 non-null  float64\n",
      " 18  public_place_type               722815 non-null  object \n",
      " 19  industrial_use_type             722815 non-null  object \n",
      " 20  govermental_use_type            722815 non-null  object \n",
      " 21  flexible_superstructure         722815 non-null  object \n",
      " 22  wall_binding                    722815 non-null  float64\n",
      " 23  wall_material                   722815 non-null  float64\n",
      " 24  damage_grade                    722815 non-null  float64\n",
      "dtypes: float64(9), int64(1), object(15)\n",
      "memory usage: 137.9+ MB\n"
     ]
    }
   ],
   "source": [
    "df_copy.info()"
   ]
  },
  {
   "cell_type": "markdown",
   "metadata": {},
   "source": [
    "---\n",
    "# Labelling Categorical Data\n",
    "---"
   ]
  },
  {
   "cell_type": "code",
   "execution_count": 8,
   "metadata": {},
   "outputs": [
    {
     "data": {
      "text/html": [
       "<style>#sk-container-id-1 {color: black;background-color: white;}#sk-container-id-1 pre{padding: 0;}#sk-container-id-1 div.sk-toggleable {background-color: white;}#sk-container-id-1 label.sk-toggleable__label {cursor: pointer;display: block;width: 100%;margin-bottom: 0;padding: 0.3em;box-sizing: border-box;text-align: center;}#sk-container-id-1 label.sk-toggleable__label-arrow:before {content: \"▸\";float: left;margin-right: 0.25em;color: #696969;}#sk-container-id-1 label.sk-toggleable__label-arrow:hover:before {color: black;}#sk-container-id-1 div.sk-estimator:hover label.sk-toggleable__label-arrow:before {color: black;}#sk-container-id-1 div.sk-toggleable__content {max-height: 0;max-width: 0;overflow: hidden;text-align: left;background-color: #f0f8ff;}#sk-container-id-1 div.sk-toggleable__content pre {margin: 0.2em;color: black;border-radius: 0.25em;background-color: #f0f8ff;}#sk-container-id-1 input.sk-toggleable__control:checked~div.sk-toggleable__content {max-height: 200px;max-width: 100%;overflow: auto;}#sk-container-id-1 input.sk-toggleable__control:checked~label.sk-toggleable__label-arrow:before {content: \"▾\";}#sk-container-id-1 div.sk-estimator input.sk-toggleable__control:checked~label.sk-toggleable__label {background-color: #d4ebff;}#sk-container-id-1 div.sk-label input.sk-toggleable__control:checked~label.sk-toggleable__label {background-color: #d4ebff;}#sk-container-id-1 input.sk-hidden--visually {border: 0;clip: rect(1px 1px 1px 1px);clip: rect(1px, 1px, 1px, 1px);height: 1px;margin: -1px;overflow: hidden;padding: 0;position: absolute;width: 1px;}#sk-container-id-1 div.sk-estimator {font-family: monospace;background-color: #f0f8ff;border: 1px dotted black;border-radius: 0.25em;box-sizing: border-box;margin-bottom: 0.5em;}#sk-container-id-1 div.sk-estimator:hover {background-color: #d4ebff;}#sk-container-id-1 div.sk-parallel-item::after {content: \"\";width: 100%;border-bottom: 1px solid gray;flex-grow: 1;}#sk-container-id-1 div.sk-label:hover label.sk-toggleable__label {background-color: #d4ebff;}#sk-container-id-1 div.sk-serial::before {content: \"\";position: absolute;border-left: 1px solid gray;box-sizing: border-box;top: 0;bottom: 0;left: 50%;z-index: 0;}#sk-container-id-1 div.sk-serial {display: flex;flex-direction: column;align-items: center;background-color: white;padding-right: 0.2em;padding-left: 0.2em;position: relative;}#sk-container-id-1 div.sk-item {position: relative;z-index: 1;}#sk-container-id-1 div.sk-parallel {display: flex;align-items: stretch;justify-content: center;background-color: white;position: relative;}#sk-container-id-1 div.sk-item::before, #sk-container-id-1 div.sk-parallel-item::before {content: \"\";position: absolute;border-left: 1px solid gray;box-sizing: border-box;top: 0;bottom: 0;left: 50%;z-index: -1;}#sk-container-id-1 div.sk-parallel-item {display: flex;flex-direction: column;z-index: 1;position: relative;background-color: white;}#sk-container-id-1 div.sk-parallel-item:first-child::after {align-self: flex-end;width: 50%;}#sk-container-id-1 div.sk-parallel-item:last-child::after {align-self: flex-start;width: 50%;}#sk-container-id-1 div.sk-parallel-item:only-child::after {width: 0;}#sk-container-id-1 div.sk-dashed-wrapped {border: 1px dashed gray;margin: 0 0.4em 0.5em 0.4em;box-sizing: border-box;padding-bottom: 0.4em;background-color: white;}#sk-container-id-1 div.sk-label label {font-family: monospace;font-weight: bold;display: inline-block;line-height: 1.2em;}#sk-container-id-1 div.sk-label-container {text-align: center;}#sk-container-id-1 div.sk-container {/* jupyter's `normalize.less` sets `[hidden] { display: none; }` but bootstrap.min.css set `[hidden] { display: none !important; }` so we also need the `!important` here to be able to override the default hidden behavior on the sphinx rendered scikit-learn.org. See: https://github.com/scikit-learn/scikit-learn/issues/21755 */display: inline-block !important;position: relative;}#sk-container-id-1 div.sk-text-repr-fallback {display: none;}</style><div id=\"sk-container-id-1\" class=\"sk-top-container\"><div class=\"sk-text-repr-fallback\"><pre>LabelEncoder()</pre><b>In a Jupyter environment, please rerun this cell to show the HTML representation or trust the notebook. <br />On GitHub, the HTML representation is unable to render, please try loading this page with nbviewer.org.</b></div><div class=\"sk-container\" hidden><div class=\"sk-item\"><div class=\"sk-estimator sk-toggleable\"><input class=\"sk-toggleable__control sk-hidden--visually\" id=\"sk-estimator-id-1\" type=\"checkbox\" checked><label for=\"sk-estimator-id-1\" class=\"sk-toggleable__label sk-toggleable__label-arrow\">LabelEncoder</label><div class=\"sk-toggleable__content\"><pre>LabelEncoder()</pre></div></div></div></div></div>"
      ],
      "text/plain": [
       "LabelEncoder()"
      ]
     },
     "execution_count": 8,
     "metadata": {},
     "output_type": "execute_result"
    }
   ],
   "source": [
    "le = preprocessing.LabelEncoder()\n",
    "le"
   ]
  },
  {
   "cell_type": "code",
   "execution_count": 9,
   "metadata": {},
   "outputs": [],
   "source": [
    "df_copy[['plinth_area (ft^2)','land_surface_condition', 'type_of_foundation', 'type_of_roof', 'type_of_ground_floor', 'type_of_other_floor',\n",
    "        'position', 'building_plan_configuration', 'technical_solution_proposed', 'legal_ownership_status', 'residential_type', 'no_family_residing',\n",
    "        'public_place_type', 'industrial_use_type', 'govermental_use_type', 'flexible_superstructure']] = df_copy[['plinth_area (ft^2)','land_surface_condition', 'type_of_foundation', 'type_of_roof', 'type_of_ground_floor', 'type_of_other_floor',\n",
    "        'position', 'building_plan_configuration', 'technical_solution_proposed', 'legal_ownership_status', 'residential_type', 'no_family_residing',\n",
    "        'public_place_type', 'industrial_use_type', 'govermental_use_type', 'flexible_superstructure']].apply(lambda x: le.fit_transform(x))\n"
   ]
  },
  {
   "cell_type": "code",
   "execution_count": null,
   "metadata": {},
   "outputs": [],
   "source": [
    "df_copy.isna().sum()"
   ]
  },
  {
   "cell_type": "code",
   "execution_count": null,
   "metadata": {},
   "outputs": [],
   "source": [
    "df_copy.head()"
   ]
  },
  {
   "cell_type": "markdown",
   "metadata": {},
   "source": [
    "---\n",
    "# Decide Independent and Dependent Data\n",
    "---\n",
    "and train the data"
   ]
  },
  {
   "cell_type": "code",
   "execution_count": 10,
   "metadata": {},
   "outputs": [],
   "source": [
    "x = df_copy.drop(['id','has_secondary_use', 'no_family_residing', 'public_place_type', 'industrial_use_type', 'govermental_use_type', 'damage_grade'], axis=1)\n",
    "y = df_copy['damage_grade']"
   ]
  },
  {
   "cell_type": "code",
   "execution_count": 11,
   "metadata": {},
   "outputs": [
    {
     "data": {
      "text/plain": [
       "(722815, 18)"
      ]
     },
     "execution_count": 11,
     "metadata": {},
     "output_type": "execute_result"
    }
   ],
   "source": [
    "x.shape"
   ]
  },
  {
   "cell_type": "code",
   "execution_count": 12,
   "metadata": {},
   "outputs": [],
   "source": [
    "x_train, x_test, y_train, y_test = train_test_split(x, y, test_size=0.2, random_state=42)"
   ]
  },
  {
   "cell_type": "markdown",
   "metadata": {},
   "source": [
    "---\n",
    "# RandomForestClassifier\n",
    "---"
   ]
  },
  {
   "cell_type": "code",
   "execution_count": 16,
   "metadata": {},
   "outputs": [],
   "source": [
    "rf = RandomForestClassifier(n_estimators=300)"
   ]
  },
  {
   "cell_type": "code",
   "execution_count": 17,
   "metadata": {},
   "outputs": [],
   "source": [
    "rf.fit(x_train, y_train)"
   ]
  },
  {
   "cell_type": "code",
   "execution_count": 14,
   "metadata": {},
   "outputs": [
    {
     "data": {
      "text/plain": [
       "0.4715936996326861"
      ]
     },
     "execution_count": 14,
     "metadata": {},
     "output_type": "execute_result"
    }
   ],
   "source": [
    "accuracy = rf.score(x_test, y_test)\n",
    "accuracy"
   ]
  },
  {
   "cell_type": "code",
   "execution_count": 14,
   "metadata": {},
   "outputs": [],
   "source": [
    "pipeline = Pipeline([\n",
    "    ('scaler', StandardScaler()),\n",
    "    ('rf', RandomForestClassifier(n_estimators=100))\n",
    "])"
   ]
  },
  {
   "cell_type": "code",
   "execution_count": 15,
   "metadata": {},
   "outputs": [
    {
     "data": {
      "text/html": [
       "<style>#sk-container-id-2 {color: black;background-color: white;}#sk-container-id-2 pre{padding: 0;}#sk-container-id-2 div.sk-toggleable {background-color: white;}#sk-container-id-2 label.sk-toggleable__label {cursor: pointer;display: block;width: 100%;margin-bottom: 0;padding: 0.3em;box-sizing: border-box;text-align: center;}#sk-container-id-2 label.sk-toggleable__label-arrow:before {content: \"▸\";float: left;margin-right: 0.25em;color: #696969;}#sk-container-id-2 label.sk-toggleable__label-arrow:hover:before {color: black;}#sk-container-id-2 div.sk-estimator:hover label.sk-toggleable__label-arrow:before {color: black;}#sk-container-id-2 div.sk-toggleable__content {max-height: 0;max-width: 0;overflow: hidden;text-align: left;background-color: #f0f8ff;}#sk-container-id-2 div.sk-toggleable__content pre {margin: 0.2em;color: black;border-radius: 0.25em;background-color: #f0f8ff;}#sk-container-id-2 input.sk-toggleable__control:checked~div.sk-toggleable__content {max-height: 200px;max-width: 100%;overflow: auto;}#sk-container-id-2 input.sk-toggleable__control:checked~label.sk-toggleable__label-arrow:before {content: \"▾\";}#sk-container-id-2 div.sk-estimator input.sk-toggleable__control:checked~label.sk-toggleable__label {background-color: #d4ebff;}#sk-container-id-2 div.sk-label input.sk-toggleable__control:checked~label.sk-toggleable__label {background-color: #d4ebff;}#sk-container-id-2 input.sk-hidden--visually {border: 0;clip: rect(1px 1px 1px 1px);clip: rect(1px, 1px, 1px, 1px);height: 1px;margin: -1px;overflow: hidden;padding: 0;position: absolute;width: 1px;}#sk-container-id-2 div.sk-estimator {font-family: monospace;background-color: #f0f8ff;border: 1px dotted black;border-radius: 0.25em;box-sizing: border-box;margin-bottom: 0.5em;}#sk-container-id-2 div.sk-estimator:hover {background-color: #d4ebff;}#sk-container-id-2 div.sk-parallel-item::after {content: \"\";width: 100%;border-bottom: 1px solid gray;flex-grow: 1;}#sk-container-id-2 div.sk-label:hover label.sk-toggleable__label {background-color: #d4ebff;}#sk-container-id-2 div.sk-serial::before {content: \"\";position: absolute;border-left: 1px solid gray;box-sizing: border-box;top: 0;bottom: 0;left: 50%;z-index: 0;}#sk-container-id-2 div.sk-serial {display: flex;flex-direction: column;align-items: center;background-color: white;padding-right: 0.2em;padding-left: 0.2em;position: relative;}#sk-container-id-2 div.sk-item {position: relative;z-index: 1;}#sk-container-id-2 div.sk-parallel {display: flex;align-items: stretch;justify-content: center;background-color: white;position: relative;}#sk-container-id-2 div.sk-item::before, #sk-container-id-2 div.sk-parallel-item::before {content: \"\";position: absolute;border-left: 1px solid gray;box-sizing: border-box;top: 0;bottom: 0;left: 50%;z-index: -1;}#sk-container-id-2 div.sk-parallel-item {display: flex;flex-direction: column;z-index: 1;position: relative;background-color: white;}#sk-container-id-2 div.sk-parallel-item:first-child::after {align-self: flex-end;width: 50%;}#sk-container-id-2 div.sk-parallel-item:last-child::after {align-self: flex-start;width: 50%;}#sk-container-id-2 div.sk-parallel-item:only-child::after {width: 0;}#sk-container-id-2 div.sk-dashed-wrapped {border: 1px dashed gray;margin: 0 0.4em 0.5em 0.4em;box-sizing: border-box;padding-bottom: 0.4em;background-color: white;}#sk-container-id-2 div.sk-label label {font-family: monospace;font-weight: bold;display: inline-block;line-height: 1.2em;}#sk-container-id-2 div.sk-label-container {text-align: center;}#sk-container-id-2 div.sk-container {/* jupyter's `normalize.less` sets `[hidden] { display: none; }` but bootstrap.min.css set `[hidden] { display: none !important; }` so we also need the `!important` here to be able to override the default hidden behavior on the sphinx rendered scikit-learn.org. See: https://github.com/scikit-learn/scikit-learn/issues/21755 */display: inline-block !important;position: relative;}#sk-container-id-2 div.sk-text-repr-fallback {display: none;}</style><div id=\"sk-container-id-2\" class=\"sk-top-container\"><div class=\"sk-text-repr-fallback\"><pre>Pipeline(steps=[(&#x27;scaler&#x27;, StandardScaler()), (&#x27;rf&#x27;, RandomForestClassifier())])</pre><b>In a Jupyter environment, please rerun this cell to show the HTML representation or trust the notebook. <br />On GitHub, the HTML representation is unable to render, please try loading this page with nbviewer.org.</b></div><div class=\"sk-container\" hidden><div class=\"sk-item sk-dashed-wrapped\"><div class=\"sk-label-container\"><div class=\"sk-label sk-toggleable\"><input class=\"sk-toggleable__control sk-hidden--visually\" id=\"sk-estimator-id-2\" type=\"checkbox\" ><label for=\"sk-estimator-id-2\" class=\"sk-toggleable__label sk-toggleable__label-arrow\">Pipeline</label><div class=\"sk-toggleable__content\"><pre>Pipeline(steps=[(&#x27;scaler&#x27;, StandardScaler()), (&#x27;rf&#x27;, RandomForestClassifier())])</pre></div></div></div><div class=\"sk-serial\"><div class=\"sk-item\"><div class=\"sk-estimator sk-toggleable\"><input class=\"sk-toggleable__control sk-hidden--visually\" id=\"sk-estimator-id-3\" type=\"checkbox\" ><label for=\"sk-estimator-id-3\" class=\"sk-toggleable__label sk-toggleable__label-arrow\">StandardScaler</label><div class=\"sk-toggleable__content\"><pre>StandardScaler()</pre></div></div></div><div class=\"sk-item\"><div class=\"sk-estimator sk-toggleable\"><input class=\"sk-toggleable__control sk-hidden--visually\" id=\"sk-estimator-id-4\" type=\"checkbox\" ><label for=\"sk-estimator-id-4\" class=\"sk-toggleable__label sk-toggleable__label-arrow\">RandomForestClassifier</label><div class=\"sk-toggleable__content\"><pre>RandomForestClassifier()</pre></div></div></div></div></div></div></div>"
      ],
      "text/plain": [
       "Pipeline(steps=[('scaler', StandardScaler()), ('rf', RandomForestClassifier())])"
      ]
     },
     "execution_count": 15,
     "metadata": {},
     "output_type": "execute_result"
    }
   ],
   "source": [
    "pipeline.fit(x_train, y_train)"
   ]
  },
  {
   "cell_type": "code",
   "execution_count": 16,
   "metadata": {},
   "outputs": [],
   "source": [
    "y_pred = pipeline.predict(x_test)"
   ]
  },
  {
   "cell_type": "code",
   "execution_count": 17,
   "metadata": {},
   "outputs": [
    {
     "name": "stdout",
     "output_type": "stream",
     "text": [
      "Accuracy:  0.4710956468805988\n"
     ]
    }
   ],
   "source": [
    "accuracy = accuracy_score(y_test, y_pred)\n",
    "print(\"Accuracy: \", accuracy)"
   ]
  },
  {
   "cell_type": "markdown",
   "metadata": {},
   "source": [
    "---\n",
    "# AdaBoostClassifier\n",
    "---"
   ]
  },
  {
   "cell_type": "code",
   "execution_count": null,
   "metadata": {},
   "outputs": [],
   "source": [
    "ada = AdaBoostClassifier(algorithm=\"SAMME\", n_estimators=200, random_state=42)"
   ]
  },
  {
   "cell_type": "code",
   "execution_count": null,
   "metadata": {},
   "outputs": [],
   "source": [
    "ada.fit(x_train, y_train)"
   ]
  },
  {
   "cell_type": "code",
   "execution_count": null,
   "metadata": {},
   "outputs": [],
   "source": [
    "accur = ada.score(x_test, y_test)\n",
    "accur"
   ]
  },
  {
   "cell_type": "markdown",
   "metadata": {},
   "source": [
    "---\n",
    "# GradientBoostClassifier\n",
    "---"
   ]
  },
  {
   "cell_type": "code",
   "execution_count": null,
   "metadata": {},
   "outputs": [],
   "source": [
    "gb = GradientBoostingClassifier(n_estimators=200)"
   ]
  },
  {
   "cell_type": "code",
   "execution_count": null,
   "metadata": {},
   "outputs": [],
   "source": [
    "gb.fit(x_train, y_train)"
   ]
  },
  {
   "cell_type": "markdown",
   "metadata": {},
   "source": [
    "---\n",
    "## Ensemble Voting\n",
    "---"
   ]
  },
  {
   "cell_type": "code",
   "execution_count": 33,
   "metadata": {},
   "outputs": [],
   "source": [
    "lr = LogisticRegression(random_state=42, max_iter=5000)\n",
    "knn = KNeighborsClassifier(n_neighbors=3)\n",
    "dtc = DecisionTreeClassifier(random_state=42)\n",
    "gbc = GradientBoostingClassifier(random_state=42)\n",
    "rfc = RandomForestClassifier(random_state=42)"
   ]
  },
  {
   "cell_type": "code",
   "execution_count": 35,
   "metadata": {},
   "outputs": [],
   "source": [
    "voting_hard = VotingClassifier(estimators=[('lr', lr), ('knn', knn), ('dtc', dtc), ('gbc', gbc), ('rfc', rfc)], voting='hard')\n",
    "voting_soft = VotingClassifier(estimators=[('lr', lr), ('knn', knn), ('dtc', dtc), ('gbc', gbc), ('rfc', rfc)], voting='soft')"
   ]
  },
  {
   "cell_type": "code",
   "execution_count": 32,
   "metadata": {},
   "outputs": [
    {
     "name": "stderr",
     "output_type": "stream",
     "text": [
      "c:\\Users\\zaida\\anaconda3\\lib\\site-packages\\sklearn\\linear_model\\_logistic.py:444: ConvergenceWarning: lbfgs failed to converge (status=1):\n",
      "STOP: TOTAL NO. of ITERATIONS REACHED LIMIT.\n",
      "\n",
      "Increase the number of iterations (max_iter) or scale the data as shown in:\n",
      "    https://scikit-learn.org/stable/modules/preprocessing.html\n",
      "Please also refer to the documentation for alternative solver options:\n",
      "    https://scikit-learn.org/stable/modules/linear_model.html#logistic-regression\n",
      "  n_iter_i = _check_optimize_result(\n",
      "c:\\Users\\zaida\\anaconda3\\lib\\site-packages\\sklearn\\linear_model\\_logistic.py:444: ConvergenceWarning: lbfgs failed to converge (status=1):\n",
      "STOP: TOTAL NO. of ITERATIONS REACHED LIMIT.\n",
      "\n",
      "Increase the number of iterations (max_iter) or scale the data as shown in:\n",
      "    https://scikit-learn.org/stable/modules/preprocessing.html\n",
      "Please also refer to the documentation for alternative solver options:\n",
      "    https://scikit-learn.org/stable/modules/linear_model.html#logistic-regression\n",
      "  n_iter_i = _check_optimize_result(\n"
     ]
    },
    {
     "data": {
      "text/html": [
       "<style>#sk-container-id-5 {color: black;background-color: white;}#sk-container-id-5 pre{padding: 0;}#sk-container-id-5 div.sk-toggleable {background-color: white;}#sk-container-id-5 label.sk-toggleable__label {cursor: pointer;display: block;width: 100%;margin-bottom: 0;padding: 0.3em;box-sizing: border-box;text-align: center;}#sk-container-id-5 label.sk-toggleable__label-arrow:before {content: \"▸\";float: left;margin-right: 0.25em;color: #696969;}#sk-container-id-5 label.sk-toggleable__label-arrow:hover:before {color: black;}#sk-container-id-5 div.sk-estimator:hover label.sk-toggleable__label-arrow:before {color: black;}#sk-container-id-5 div.sk-toggleable__content {max-height: 0;max-width: 0;overflow: hidden;text-align: left;background-color: #f0f8ff;}#sk-container-id-5 div.sk-toggleable__content pre {margin: 0.2em;color: black;border-radius: 0.25em;background-color: #f0f8ff;}#sk-container-id-5 input.sk-toggleable__control:checked~div.sk-toggleable__content {max-height: 200px;max-width: 100%;overflow: auto;}#sk-container-id-5 input.sk-toggleable__control:checked~label.sk-toggleable__label-arrow:before {content: \"▾\";}#sk-container-id-5 div.sk-estimator input.sk-toggleable__control:checked~label.sk-toggleable__label {background-color: #d4ebff;}#sk-container-id-5 div.sk-label input.sk-toggleable__control:checked~label.sk-toggleable__label {background-color: #d4ebff;}#sk-container-id-5 input.sk-hidden--visually {border: 0;clip: rect(1px 1px 1px 1px);clip: rect(1px, 1px, 1px, 1px);height: 1px;margin: -1px;overflow: hidden;padding: 0;position: absolute;width: 1px;}#sk-container-id-5 div.sk-estimator {font-family: monospace;background-color: #f0f8ff;border: 1px dotted black;border-radius: 0.25em;box-sizing: border-box;margin-bottom: 0.5em;}#sk-container-id-5 div.sk-estimator:hover {background-color: #d4ebff;}#sk-container-id-5 div.sk-parallel-item::after {content: \"\";width: 100%;border-bottom: 1px solid gray;flex-grow: 1;}#sk-container-id-5 div.sk-label:hover label.sk-toggleable__label {background-color: #d4ebff;}#sk-container-id-5 div.sk-serial::before {content: \"\";position: absolute;border-left: 1px solid gray;box-sizing: border-box;top: 0;bottom: 0;left: 50%;z-index: 0;}#sk-container-id-5 div.sk-serial {display: flex;flex-direction: column;align-items: center;background-color: white;padding-right: 0.2em;padding-left: 0.2em;position: relative;}#sk-container-id-5 div.sk-item {position: relative;z-index: 1;}#sk-container-id-5 div.sk-parallel {display: flex;align-items: stretch;justify-content: center;background-color: white;position: relative;}#sk-container-id-5 div.sk-item::before, #sk-container-id-5 div.sk-parallel-item::before {content: \"\";position: absolute;border-left: 1px solid gray;box-sizing: border-box;top: 0;bottom: 0;left: 50%;z-index: -1;}#sk-container-id-5 div.sk-parallel-item {display: flex;flex-direction: column;z-index: 1;position: relative;background-color: white;}#sk-container-id-5 div.sk-parallel-item:first-child::after {align-self: flex-end;width: 50%;}#sk-container-id-5 div.sk-parallel-item:last-child::after {align-self: flex-start;width: 50%;}#sk-container-id-5 div.sk-parallel-item:only-child::after {width: 0;}#sk-container-id-5 div.sk-dashed-wrapped {border: 1px dashed gray;margin: 0 0.4em 0.5em 0.4em;box-sizing: border-box;padding-bottom: 0.4em;background-color: white;}#sk-container-id-5 div.sk-label label {font-family: monospace;font-weight: bold;display: inline-block;line-height: 1.2em;}#sk-container-id-5 div.sk-label-container {text-align: center;}#sk-container-id-5 div.sk-container {/* jupyter's `normalize.less` sets `[hidden] { display: none; }` but bootstrap.min.css set `[hidden] { display: none !important; }` so we also need the `!important` here to be able to override the default hidden behavior on the sphinx rendered scikit-learn.org. See: https://github.com/scikit-learn/scikit-learn/issues/21755 */display: inline-block !important;position: relative;}#sk-container-id-5 div.sk-text-repr-fallback {display: none;}</style><div id=\"sk-container-id-5\" class=\"sk-top-container\"><div class=\"sk-text-repr-fallback\"><pre>VotingClassifier(estimators=[(&#x27;lr&#x27;,\n",
       "                              LogisticRegression(max_iter=5000,\n",
       "                                                 random_state=42)),\n",
       "                             (&#x27;knn&#x27;, KNeighborsClassifier(n_neighbors=3)),\n",
       "                             (&#x27;dt&#x27;, DecisionTreeClassifier(random_state=42))],\n",
       "                 voting=&#x27;soft&#x27;)</pre><b>In a Jupyter environment, please rerun this cell to show the HTML representation or trust the notebook. <br />On GitHub, the HTML representation is unable to render, please try loading this page with nbviewer.org.</b></div><div class=\"sk-container\" hidden><div class=\"sk-item sk-dashed-wrapped\"><div class=\"sk-label-container\"><div class=\"sk-label sk-toggleable\"><input class=\"sk-toggleable__control sk-hidden--visually\" id=\"sk-estimator-id-14\" type=\"checkbox\" ><label for=\"sk-estimator-id-14\" class=\"sk-toggleable__label sk-toggleable__label-arrow\">VotingClassifier</label><div class=\"sk-toggleable__content\"><pre>VotingClassifier(estimators=[(&#x27;lr&#x27;,\n",
       "                              LogisticRegression(max_iter=5000,\n",
       "                                                 random_state=42)),\n",
       "                             (&#x27;knn&#x27;, KNeighborsClassifier(n_neighbors=3)),\n",
       "                             (&#x27;dt&#x27;, DecisionTreeClassifier(random_state=42))],\n",
       "                 voting=&#x27;soft&#x27;)</pre></div></div></div><div class=\"sk-parallel\"><div class=\"sk-parallel-item\"><div class=\"sk-item\"><div class=\"sk-label-container\"><div class=\"sk-label sk-toggleable\"><label>lr</label></div></div><div class=\"sk-serial\"><div class=\"sk-item\"><div class=\"sk-estimator sk-toggleable\"><input class=\"sk-toggleable__control sk-hidden--visually\" id=\"sk-estimator-id-15\" type=\"checkbox\" ><label for=\"sk-estimator-id-15\" class=\"sk-toggleable__label sk-toggleable__label-arrow\">LogisticRegression</label><div class=\"sk-toggleable__content\"><pre>LogisticRegression(max_iter=5000, random_state=42)</pre></div></div></div></div></div></div><div class=\"sk-parallel-item\"><div class=\"sk-item\"><div class=\"sk-label-container\"><div class=\"sk-label sk-toggleable\"><label>knn</label></div></div><div class=\"sk-serial\"><div class=\"sk-item\"><div class=\"sk-estimator sk-toggleable\"><input class=\"sk-toggleable__control sk-hidden--visually\" id=\"sk-estimator-id-16\" type=\"checkbox\" ><label for=\"sk-estimator-id-16\" class=\"sk-toggleable__label sk-toggleable__label-arrow\">KNeighborsClassifier</label><div class=\"sk-toggleable__content\"><pre>KNeighborsClassifier(n_neighbors=3)</pre></div></div></div></div></div></div><div class=\"sk-parallel-item\"><div class=\"sk-item\"><div class=\"sk-label-container\"><div class=\"sk-label sk-toggleable\"><label>dt</label></div></div><div class=\"sk-serial\"><div class=\"sk-item\"><div class=\"sk-estimator sk-toggleable\"><input class=\"sk-toggleable__control sk-hidden--visually\" id=\"sk-estimator-id-17\" type=\"checkbox\" ><label for=\"sk-estimator-id-17\" class=\"sk-toggleable__label sk-toggleable__label-arrow\">DecisionTreeClassifier</label><div class=\"sk-toggleable__content\"><pre>DecisionTreeClassifier(random_state=42)</pre></div></div></div></div></div></div></div></div></div></div>"
      ],
      "text/plain": [
       "VotingClassifier(estimators=[('lr',\n",
       "                              LogisticRegression(max_iter=5000,\n",
       "                                                 random_state=42)),\n",
       "                             ('knn', KNeighborsClassifier(n_neighbors=3)),\n",
       "                             ('dt', DecisionTreeClassifier(random_state=42))],\n",
       "                 voting='soft')"
      ]
     },
     "execution_count": 32,
     "metadata": {},
     "output_type": "execute_result"
    }
   ],
   "source": [
    "voting_hard.fit(x_train, y_train)\n",
    "voting_soft.fit(x_train, y_train)"
   ]
  },
  {
   "cell_type": "code",
   "execution_count": 26,
   "metadata": {},
   "outputs": [
    {
     "name": "stdout",
     "output_type": "stream",
     "text": [
      "Voting Hard Accuracy :  0.4178178372059241\n"
     ]
    }
   ],
   "source": [
    "pred_hard = voting_hard.predict(x_test)\n",
    "score_hard = accuracy_score(y_test, pred_hard)\n",
    "print(f'Voting Hard Accuracy : ', score_hard)"
   ]
  },
  {
   "cell_type": "code",
   "execution_count": 27,
   "metadata": {},
   "outputs": [
    {
     "name": "stdout",
     "output_type": "stream",
     "text": [
      "Voting Hard Accuracy :  0.43399071685009305\n"
     ]
    }
   ],
   "source": [
    "pred_soft = voting_soft.predict(x_test)\n",
    "score_soft = accuracy_score(y_test, pred_soft)\n",
    "print(f'Voting Hard Accuracy : ', score_soft)"
   ]
  },
  {
   "cell_type": "markdown",
   "metadata": {},
   "source": [
    "---\n",
    "# Evaluate\n",
    "---"
   ]
  },
  {
   "cell_type": "code",
   "execution_count": 26,
   "metadata": {},
   "outputs": [],
   "source": [
    "test_frame = pd.read_csv('test.csv')\n",
    "test_copy = test_frame.copy()"
   ]
  },
  {
   "cell_type": "code",
   "execution_count": 27,
   "metadata": {},
   "outputs": [],
   "source": [
    "prep(test_copy)"
   ]
  },
  {
   "cell_type": "code",
   "execution_count": 28,
   "metadata": {},
   "outputs": [],
   "source": [
    "test_copy.drop(['id','has_secondary_use', 'no_family_residing', 'public_place_type', 'industrial_use_type', 'govermental_use_type'],axis=1, inplace=True)"
   ]
  },
  {
   "cell_type": "code",
   "execution_count": 30,
   "metadata": {},
   "outputs": [],
   "source": [
    "test_copy[['plinth_area (ft^2)', 'land_surface_condition', 'type_of_foundation', 'type_of_roof', 'type_of_ground_floor', 'type_of_other_floor',\n",
    "        'position', 'building_plan_configuration', 'technical_solution_proposed', 'legal_ownership_status', 'residential_type',\n",
    "        'flexible_superstructure']] = test_copy[['plinth_area (ft^2)', 'land_surface_condition', 'type_of_foundation', 'type_of_roof', 'type_of_ground_floor', 'type_of_other_floor',\n",
    "        'position', 'building_plan_configuration', 'technical_solution_proposed', 'legal_ownership_status', 'residential_type',\n",
    "        'flexible_superstructure']].apply(lambda x: le.fit_transform(x))"
   ]
  },
  {
   "cell_type": "code",
   "execution_count": 31,
   "metadata": {},
   "outputs": [
    {
     "data": {
      "text/plain": [
       "(242082, 18)"
      ]
     },
     "execution_count": 31,
     "metadata": {},
     "output_type": "execute_result"
    }
   ],
   "source": [
    "test_copy.shape"
   ]
  },
  {
   "cell_type": "code",
   "execution_count": 32,
   "metadata": {},
   "outputs": [],
   "source": [
    "prediction = pipeline.predict(test_copy)"
   ]
  },
  {
   "cell_type": "code",
   "execution_count": null,
   "metadata": {},
   "outputs": [],
   "source": [
    "pred = gb.predict(test_copy)"
   ]
  },
  {
   "cell_type": "code",
   "execution_count": 33,
   "metadata": {},
   "outputs": [],
   "source": [
    "submission = pd.DataFrame([test_frame['id'], prediction]).transpose()\n",
    "submission.columns = ['id', 'damage_grade']"
   ]
  },
  {
   "cell_type": "code",
   "execution_count": 34,
   "metadata": {},
   "outputs": [
    {
     "data": {
      "text/html": [
       "<div>\n",
       "<style scoped>\n",
       "    .dataframe tbody tr th:only-of-type {\n",
       "        vertical-align: middle;\n",
       "    }\n",
       "\n",
       "    .dataframe tbody tr th {\n",
       "        vertical-align: top;\n",
       "    }\n",
       "\n",
       "    .dataframe thead th {\n",
       "        text-align: right;\n",
       "    }\n",
       "</style>\n",
       "<table border=\"1\" class=\"dataframe\">\n",
       "  <thead>\n",
       "    <tr style=\"text-align: right;\">\n",
       "      <th></th>\n",
       "      <th>id</th>\n",
       "      <th>damage_grade</th>\n",
       "    </tr>\n",
       "  </thead>\n",
       "  <tbody>\n",
       "    <tr>\n",
       "      <th>0</th>\n",
       "      <td>0.0</td>\n",
       "      <td>2.0</td>\n",
       "    </tr>\n",
       "    <tr>\n",
       "      <th>1</th>\n",
       "      <td>1.0</td>\n",
       "      <td>5.0</td>\n",
       "    </tr>\n",
       "    <tr>\n",
       "      <th>2</th>\n",
       "      <td>2.0</td>\n",
       "      <td>5.0</td>\n",
       "    </tr>\n",
       "    <tr>\n",
       "      <th>3</th>\n",
       "      <td>3.0</td>\n",
       "      <td>4.0</td>\n",
       "    </tr>\n",
       "    <tr>\n",
       "      <th>4</th>\n",
       "      <td>4.0</td>\n",
       "      <td>2.0</td>\n",
       "    </tr>\n",
       "  </tbody>\n",
       "</table>\n",
       "</div>"
      ],
      "text/plain": [
       "    id  damage_grade\n",
       "0  0.0           2.0\n",
       "1  1.0           5.0\n",
       "2  2.0           5.0\n",
       "3  3.0           4.0\n",
       "4  4.0           2.0"
      ]
     },
     "execution_count": 34,
     "metadata": {},
     "output_type": "execute_result"
    }
   ],
   "source": [
    "submission.head()"
   ]
  },
  {
   "cell_type": "code",
   "execution_count": 35,
   "metadata": {},
   "outputs": [],
   "source": [
    "submission.to_csv('Submission Pipeline.csv', index=False)"
   ]
  },
  {
   "cell_type": "code",
   "execution_count": 36,
   "metadata": {},
   "outputs": [
    {
     "name": "stdout",
     "output_type": "stream",
     "text": [
      "<class 'pandas.core.frame.DataFrame'>\n",
      "RangeIndex: 242082 entries, 0 to 242081\n",
      "Data columns (total 2 columns):\n",
      " #   Column        Non-Null Count   Dtype\n",
      "---  ------        --------------   -----\n",
      " 0   id            242082 non-null  int32\n",
      " 1   damage_grade  242082 non-null  int32\n",
      "dtypes: int32(2)\n",
      "memory usage: 1.8 MB\n"
     ]
    }
   ],
   "source": [
    "sub2 = pd.read_csv('Submission Pipeline.csv')\n",
    "sub2 = submission.astype(int)\n",
    "sub2.info()"
   ]
  },
  {
   "cell_type": "code",
   "execution_count": 37,
   "metadata": {},
   "outputs": [],
   "source": [
    "sub2.to_csv('Submission Pipeline Fix.csv', index=False)"
   ]
  },
  {
   "cell_type": "code",
   "execution_count": null,
   "metadata": {},
   "outputs": [],
   "source": [
    "sub = pd.read_csv('Submission Mageena.csv')\n",
    "sub.head()"
   ]
  },
  {
   "cell_type": "code",
   "execution_count": null,
   "metadata": {},
   "outputs": [],
   "source": [
    "sub.info()"
   ]
  },
  {
   "cell_type": "code",
   "execution_count": null,
   "metadata": {},
   "outputs": [],
   "source": [
    "sub.to_csv('Submission Mageena.csv', index=False)"
   ]
  }
 ],
 "metadata": {
  "kernelspec": {
   "display_name": "Python 3.9.13 ('base')",
   "language": "python",
   "name": "python3"
  },
  "language_info": {
   "codemirror_mode": {
    "name": "ipython",
    "version": 3
   },
   "file_extension": ".py",
   "mimetype": "text/x-python",
   "name": "python",
   "nbconvert_exporter": "python",
   "pygments_lexer": "ipython3",
   "version": "3.9.13"
  },
  "orig_nbformat": 4,
  "vscode": {
   "interpreter": {
    "hash": "f58640a66c91c7abd7713d549953a5cbd8de81706792f104836fc8537ecdd64e"
   }
  }
 },
 "nbformat": 4,
 "nbformat_minor": 2
}
